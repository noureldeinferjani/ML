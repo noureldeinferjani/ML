{
 "cells": [
  {
   "cell_type": "markdown",
   "id": "previous-engineering",
   "metadata": {
    "papermill": {
     "duration": 0.018966,
     "end_time": "2022-08-04T11:11:50.639501",
     "exception": false,
     "start_time": "2022-08-04T11:11:50.620535",
     "status": "completed"
    },
    "tags": []
   },
   "source": [
    "\n",
    "\n",
    "<h1 style='background-color:Green; font-family:newtimeroman; font-size:180%; text-align:center; border-radius: 15px 50px;' > Chest Cancer Classification - VVG16 </h1>"
   ]
  },
  {
   "cell_type": "markdown",
   "id": "occasional-clark",
   "metadata": {
    "papermill": {
     "duration": 0.015985,
     "end_time": "2022-08-04T11:11:50.672617",
     "exception": false,
     "start_time": "2022-08-04T11:11:50.656632",
     "status": "completed"
    },
    "tags": []
   },
   "source": [
    "### Symptoms and Diagnosis\n",
    "\n",
    "Because chest cancer encompasses a number of different cancers, symptoms will be different for different people. Common symptoms of chest cancer include:\n",
    "\n",
    "* Chest pain\n",
    "* Cough that brings up blood or hemoptysis\n",
    "* Painful coughing or a cough that doesn’t go away\n",
    "* Shortness of breath\n",
    "* Hoarseness\n",
    "* Wheezing\n",
    "* Unusual lumps of tissue under the skin on the chest\n",
    "* Unexplained weight loss "
   ]
  },
  {
   "cell_type": "markdown",
   "id": "educational-frank",
   "metadata": {
    "papermill": {
     "duration": 0.018187,
     "end_time": "2022-08-04T11:11:50.707018",
     "exception": false,
     "start_time": "2022-08-04T11:11:50.688831",
     "status": "completed"
    },
    "tags": []
   },
   "source": [
    "<img src=\"https://cdn.images.express.co.uk/img/dynamic/11/750x445/1321321.jpg\" width=\"800px\">"
   ]
  },
  {
   "cell_type": "markdown",
   "id": "several-appointment",
   "metadata": {
    "papermill": {
     "duration": 0.016777,
     "end_time": "2022-08-04T11:11:50.740433",
     "exception": false,
     "start_time": "2022-08-04T11:11:50.723656",
     "status": "completed"
    },
    "tags": []
   },
   "source": [
    "\n",
    "<h1 style='background-color:Green; font-family:newtimeroman; font-size:180%; text-align:center; border-radius: 15px 50px;' >  What is the VGG16 </h1>\n",
    "\n",
    "\n",
    "\n",
    "VGG16 is a convolutional neural network model proposed by K. ... Zisserman from the University of Oxford in the paper “Very Deep Convolutional Networks for Large-Scale Image Recognition”. The model achieves 92.7% top-5 test accuracy in ImageNet, which is a dataset of over 14 million images belonging to 1000 classes.\n",
    "\n",
    "\n",
    "\n"
   ]
  },
  {
   "cell_type": "markdown",
   "id": "loaded-clerk",
   "metadata": {
    "papermill": {
     "duration": 0.01663,
     "end_time": "2022-08-04T11:11:50.773948",
     "exception": false,
     "start_time": "2022-08-04T11:11:50.757318",
     "status": "completed"
    },
    "tags": []
   },
   "source": []
  },
  {
   "cell_type": "markdown",
   "id": "proof-partner",
   "metadata": {
    "papermill": {
     "duration": 0.015826,
     "end_time": "2022-08-04T11:11:50.807742",
     "exception": false,
     "start_time": "2022-08-04T11:11:50.791916",
     "status": "completed"
    },
    "tags": []
   },
   "source": [
    "### Description\n",
    "\n",
    "#### Data\n",
    "\n",
    "Images are not in dcm format, the images are in jpg or png to fit the model\n",
    "Data contain 3 chest cancer types which are Adenocarcinoma,Large cell carcinoma, Squamous cell carcinoma , and 1 folder for the normal cell\n",
    "Data folder is the main folder that contain all the step folders\n",
    "inside Data folder are test , train , valid\n",
    "\n",
    "test represent testing set\n",
    "\n",
    "train represent training set\n",
    "\n",
    "valid represent validation set\n",
    "\n",
    "training set is 70%\n",
    "\n",
    "testing set is 20%\n",
    "\n",
    "validation set is 10%\n",
    "\n",
    "\n",
    "* Adenocarcinoma\n",
    "\n",
    "Adenocarcinoma of the lung: Lung adenocarcinoma is the most common form of lung cancer accounting for 30 percent of all cases overall and about 40 percent of all non-small cell lung cancer occurrences. Adenocarcinomas are found in several common cancers, including breast, prostate and colorectal.\n",
    "\n",
    "Adenocarcinomas of the lung are found in the outer region of the lung\n",
    "in glands that secrete mucus and help us breathe.\n",
    "Symptoms include coughing, hoarseness, weight loss and weakness.\n",
    "\n",
    "* Large cell carcinoma\n",
    "\n",
    "Large-cell undifferentiated carcinoma: Large-cell undifferentiated carcinoma lung cancer grows and spreads quickly and can\n",
    "be found anywhere in the lung. This type of lung cancer usually accounts for 10\n",
    "to 15 percent of all cases of NSCLC.\n",
    "Large-cell undifferentiated carcinoma tends to grow and spread quickly.\n",
    "\n",
    "* Squamous cell carcinoma\n",
    "\n",
    "Squamous cell: This type of lung cancer is found centrally in the lung,\n",
    "where the larger bronchi join the trachea to the lung,\n",
    "or in one of the main airway branches.\n",
    "Squamous cell lung cancer is responsible for about 30 percent of all non-small\n",
    "cell lung cancers, and is generally linked to smoking.\n",
    "\n",
    "And the last folder is the normal CT-Scan images\n",
    "\n",
    "\n",
    "\n",
    "#### Dataset link :\n",
    "\n",
    "[Here](https://www.kaggle.com/mohamedhanyyy/chest-ctscan-images)\n"
   ]
  },
  {
   "cell_type": "code",
   "execution_count": 1,
   "id": "apparent-marketing",
   "metadata": {
    "execution": {
     "iopub.execute_input": "2022-08-04T11:11:50.848283Z",
     "iopub.status.busy": "2022-08-04T11:11:50.846357Z",
     "iopub.status.idle": "2022-08-04T11:11:59.113024Z",
     "shell.execute_reply": "2022-08-04T11:11:59.112108Z",
     "shell.execute_reply.started": "2022-08-04T10:03:50.917538Z"
    },
    "papermill": {
     "duration": 8.287688,
     "end_time": "2022-08-04T11:11:59.113212",
     "exception": false,
     "start_time": "2022-08-04T11:11:50.825524",
     "status": "completed"
    },
    "tags": []
   },
   "outputs": [],
   "source": [
    "import numpy as np\n",
    "import pandas as pd\n",
    "import matplotlib.pyplot as plt\n",
    "import seaborn as sn\n",
    "import skimage.io\n",
    "import os \n",
    "import tqdm\n",
    "import glob\n",
    "import tensorflow \n",
    "\n",
    "from tqdm import tqdm\n",
    "from sklearn.utils import shuffle\n",
    "from sklearn import metrics\n",
    "from sklearn.metrics import confusion_matrix, classification_report\n",
    "from sklearn.model_selection import train_test_split\n",
    "\n",
    "from skimage.io import imread, imshow\n",
    "from skimage.transform import resize\n",
    "from skimage.color import grey2rgb\n",
    "\n",
    "import tensorflow as tf\n",
    "from tensorflow.keras.preprocessing.image import ImageDataGenerator\n",
    "from tensorflow.keras.preprocessing import image_dataset_from_directory\n",
    "from tensorflow.keras.models import Sequential\n",
    "from tensorflow.keras.layers import InputLayer, BatchNormalization, Dropout, Flatten, Dense, Activation, MaxPool2D, Conv2D\n",
    "from tensorflow.keras.callbacks import EarlyStopping, ModelCheckpoint\n",
    "from tensorflow.keras.applications.vgg16 import VGG16\n",
    "from tensorflow.keras.utils import to_categorical\n",
    "from keras import optimizers\n",
    "from tensorflow.keras.optimizers import Adam\n",
    "\n",
    "from keras.callbacks import Callback,ModelCheckpoint,ReduceLROnPlateau\n",
    "from keras.models import Sequential,load_model\n",
    "from keras.layers import Dense, Dropout\n",
    "from keras.wrappers.scikit_learn import KerasClassifier\n",
    "import keras.backend as K\n",
    "from typeguard import typechecked\n",
    "from typing import Optional"
   ]
  },
  {
   "cell_type": "code",
   "execution_count": 2,
   "id": "based-india",
   "metadata": {
    "execution": {
     "iopub.execute_input": "2022-08-04T11:11:59.150279Z",
     "iopub.status.busy": "2022-08-04T11:11:59.149319Z",
     "iopub.status.idle": "2022-08-04T11:11:59.153824Z",
     "shell.execute_reply": "2022-08-04T11:11:59.154457Z",
     "shell.execute_reply.started": "2022-08-04T10:03:59.179182Z"
    },
    "papermill": {
     "duration": 0.025123,
     "end_time": "2022-08-04T11:11:59.154640",
     "exception": false,
     "start_time": "2022-08-04T11:11:59.129517",
     "status": "completed"
    },
    "tags": []
   },
   "outputs": [],
   "source": [
    "AUTOTUNE = tf.data.experimental.AUTOTUNE"
   ]
  },
  {
   "cell_type": "code",
   "execution_count": 3,
   "id": "partial-belle",
   "metadata": {
    "execution": {
     "iopub.execute_input": "2022-08-04T11:11:59.191523Z",
     "iopub.status.busy": "2022-08-04T11:11:59.190477Z",
     "iopub.status.idle": "2022-08-04T11:11:59.196679Z",
     "shell.execute_reply": "2022-08-04T11:11:59.197232Z",
     "shell.execute_reply.started": "2022-08-04T10:03:59.185688Z"
    },
    "papermill": {
     "duration": 0.026583,
     "end_time": "2022-08-04T11:11:59.197553",
     "exception": false,
     "start_time": "2022-08-04T11:11:59.170970",
     "status": "completed"
    },
    "tags": []
   },
   "outputs": [],
   "source": [
    "train_datagen = ImageDataGenerator(rescale = 1./255,\n",
    "                                   validation_split = 0.2,\n",
    "                                  \n",
    "        rotation_range=5,\n",
    "        width_shift_range=0.2,\n",
    "        height_shift_range=0.2,\n",
    "        shear_range=0.2,\n",
    "        horizontal_flip=True,\n",
    "        vertical_flip=True,\n",
    "        fill_mode='nearest')\n",
    "\n",
    "valid_datagen = ImageDataGenerator(rescale = 1./255,\n",
    "                                  validation_split = 0.2)\n",
    "\n",
    "test_datagen  = ImageDataGenerator(rescale = 1./255\n",
    "                                  )"
   ]
  },
  {
   "cell_type": "code",
   "execution_count": 4,
   "id": "descending-account",
   "metadata": {
    "execution": {
     "iopub.execute_input": "2022-08-04T11:11:59.235173Z",
     "iopub.status.busy": "2022-08-04T11:11:59.234105Z",
     "iopub.status.idle": "2022-08-04T11:11:59.355689Z",
     "shell.execute_reply": "2022-08-04T11:11:59.356163Z",
     "shell.execute_reply.started": "2022-08-04T10:03:59.198689Z"
    },
    "papermill": {
     "duration": 0.142166,
     "end_time": "2022-08-04T11:11:59.356380",
     "exception": false,
     "start_time": "2022-08-04T11:11:59.214214",
     "status": "completed"
    },
    "tags": []
   },
   "outputs": [
    {
     "name": "stdout",
     "output_type": "stream",
     "text": [
      "Found 613 images belonging to 4 classes.\n"
     ]
    }
   ],
   "source": [
    "train_dataset  = train_datagen.flow_from_directory(directory = '../input/chest-ctscan-images/Data/train',\n",
    "                                                   target_size = (224,224),\n",
    "                                                   class_mode = 'categorical',\n",
    "                                                   batch_size = 64)"
   ]
  },
  {
   "cell_type": "code",
   "execution_count": 5,
   "id": "crazy-thought",
   "metadata": {
    "execution": {
     "iopub.execute_input": "2022-08-04T11:11:59.394719Z",
     "iopub.status.busy": "2022-08-04T11:11:59.394035Z",
     "iopub.status.idle": "2022-08-04T11:11:59.506621Z",
     "shell.execute_reply": "2022-08-04T11:11:59.507088Z",
     "shell.execute_reply.started": "2022-08-04T10:03:59.436197Z"
    },
    "papermill": {
     "duration": 0.133146,
     "end_time": "2022-08-04T11:11:59.507271",
     "exception": false,
     "start_time": "2022-08-04T11:11:59.374125",
     "status": "completed"
    },
    "tags": []
   },
   "outputs": [
    {
     "name": "stdout",
     "output_type": "stream",
     "text": [
      "Found 72 images belonging to 4 classes.\n"
     ]
    }
   ],
   "source": [
    "valid_dataset = valid_datagen.flow_from_directory(directory = '../input/chest-ctscan-images/Data/valid',\n",
    "                                                  target_size = (224,224),\n",
    "                                                  class_mode = 'categorical',\n",
    "                                                  batch_size = 64)"
   ]
  },
  {
   "cell_type": "code",
   "execution_count": 6,
   "id": "enhanced-borough",
   "metadata": {
    "execution": {
     "iopub.execute_input": "2022-08-04T11:11:59.544804Z",
     "iopub.status.busy": "2022-08-04T11:11:59.544145Z",
     "iopub.status.idle": "2022-08-04T11:11:59.654245Z",
     "shell.execute_reply": "2022-08-04T11:11:59.654889Z",
     "shell.execute_reply.started": "2022-08-04T10:03:59.556896Z"
    },
    "papermill": {
     "duration": 0.130356,
     "end_time": "2022-08-04T11:11:59.655084",
     "exception": false,
     "start_time": "2022-08-04T11:11:59.524728",
     "status": "completed"
    },
    "tags": []
   },
   "outputs": [
    {
     "name": "stdout",
     "output_type": "stream",
     "text": [
      "Found 315 images belonging to 4 classes.\n"
     ]
    }
   ],
   "source": [
    "test_dataset = test_datagen.flow_from_directory(directory = '../input/chest-ctscan-images/Data/test',\n",
    "                                                  target_size = (224,224),\n",
    "                                                  class_mode = 'categorical',\n",
    "                                                  batch_size = 64)"
   ]
  },
  {
   "cell_type": "code",
   "execution_count": 7,
   "id": "demonstrated-implementation",
   "metadata": {
    "execution": {
     "iopub.execute_input": "2022-08-04T11:11:59.693354Z",
     "iopub.status.busy": "2022-08-04T11:11:59.692678Z",
     "iopub.status.idle": "2022-08-04T11:12:02.833200Z",
     "shell.execute_reply": "2022-08-04T11:12:02.832610Z",
     "shell.execute_reply.started": "2022-08-04T10:03:59.675420Z"
    },
    "papermill": {
     "duration": 3.160549,
     "end_time": "2022-08-04T11:12:02.833351",
     "exception": false,
     "start_time": "2022-08-04T11:11:59.672802",
     "status": "completed"
    },
    "tags": []
   },
   "outputs": [
    {
     "name": "stdout",
     "output_type": "stream",
     "text": [
      "Downloading data from https://storage.googleapis.com/tensorflow/keras-applications/vgg16/vgg16_weights_tf_dim_ordering_tf_kernels_notop.h5\n",
      "58892288/58889256 [==============================] - 2s 0us/step\n"
     ]
    }
   ],
   "source": [
    "base_model = tf.keras.applications.VGG16(input_shape=(224,224,3),include_top=False,weights=\"imagenet\")"
   ]
  },
  {
   "cell_type": "code",
   "execution_count": 8,
   "id": "personalized-platform",
   "metadata": {
    "execution": {
     "iopub.execute_input": "2022-08-04T11:12:02.882729Z",
     "iopub.status.busy": "2022-08-04T11:12:02.881353Z",
     "iopub.status.idle": "2022-08-04T11:12:02.887247Z",
     "shell.execute_reply": "2022-08-04T11:12:02.886289Z",
     "shell.execute_reply.started": "2022-08-04T10:04:02.302456Z"
    },
    "papermill": {
     "duration": 0.033477,
     "end_time": "2022-08-04T11:12:02.887445",
     "exception": false,
     "start_time": "2022-08-04T11:12:02.853968",
     "status": "completed"
    },
    "tags": []
   },
   "outputs": [],
   "source": [
    "# Freezing Layers\n",
    "\n",
    "for layer in base_model.layers[:-8]:\n",
    "    layer.trainable=False"
   ]
  },
  {
   "cell_type": "code",
   "execution_count": 9,
   "id": "forced-slovakia",
   "metadata": {
    "execution": {
     "iopub.execute_input": "2022-08-04T11:12:02.943269Z",
     "iopub.status.busy": "2022-08-04T11:12:02.940891Z",
     "iopub.status.idle": "2022-08-04T11:12:03.296784Z",
     "shell.execute_reply": "2022-08-04T11:12:03.296190Z",
     "shell.execute_reply.started": "2022-08-04T10:04:02.312305Z"
    },
    "papermill": {
     "duration": 0.388081,
     "end_time": "2022-08-04T11:12:03.296951",
     "exception": false,
     "start_time": "2022-08-04T11:12:02.908870",
     "status": "completed"
    },
    "tags": []
   },
   "outputs": [],
   "source": [
    "# Building Model\n",
    "\n",
    "model=Sequential()\n",
    "model.add(base_model)\n",
    "model.add(Dropout(0.5))\n",
    "model.add(Flatten())\n",
    "model.add(BatchNormalization())\n",
    "model.add(Dense(32,kernel_initializer='he_uniform'))\n",
    "model.add(BatchNormalization())\n",
    "model.add(Activation('relu'))\n",
    "model.add(Dropout(0.5))\n",
    "model.add(Dense(32,kernel_initializer='he_uniform'))\n",
    "model.add(BatchNormalization())\n",
    "model.add(Activation('relu'))\n",
    "model.add(Dropout(0.5))\n",
    "model.add(Dense(32,kernel_initializer='he_uniform'))\n",
    "model.add(BatchNormalization())\n",
    "model.add(Activation('relu'))\n",
    "model.add(Dense(4,activation='softmax'))"
   ]
  },
  {
   "cell_type": "code",
   "execution_count": 10,
   "id": "immune-wildlife",
   "metadata": {
    "execution": {
     "iopub.execute_input": "2022-08-04T11:12:03.348709Z",
     "iopub.status.busy": "2022-08-04T11:12:03.347861Z",
     "iopub.status.idle": "2022-08-04T11:12:03.352849Z",
     "shell.execute_reply": "2022-08-04T11:12:03.353767Z",
     "shell.execute_reply.started": "2022-08-04T10:04:02.669476Z"
    },
    "papermill": {
     "duration": 0.035994,
     "end_time": "2022-08-04T11:12:03.354087",
     "exception": false,
     "start_time": "2022-08-04T11:12:03.318093",
     "status": "completed"
    },
    "tags": []
   },
   "outputs": [
    {
     "name": "stdout",
     "output_type": "stream",
     "text": [
      "Model: \"sequential\"\n",
      "_________________________________________________________________\n",
      "Layer (type)                 Output Shape              Param #   \n",
      "=================================================================\n",
      "vgg16 (Functional)           (None, 7, 7, 512)         14714688  \n",
      "_________________________________________________________________\n",
      "dropout (Dropout)            (None, 7, 7, 512)         0         \n",
      "_________________________________________________________________\n",
      "flatten (Flatten)            (None, 25088)             0         \n",
      "_________________________________________________________________\n",
      "batch_normalization (BatchNo (None, 25088)             100352    \n",
      "_________________________________________________________________\n",
      "dense (Dense)                (None, 32)                802848    \n",
      "_________________________________________________________________\n",
      "batch_normalization_1 (Batch (None, 32)                128       \n",
      "_________________________________________________________________\n",
      "activation (Activation)      (None, 32)                0         \n",
      "_________________________________________________________________\n",
      "dropout_1 (Dropout)          (None, 32)                0         \n",
      "_________________________________________________________________\n",
      "dense_1 (Dense)              (None, 32)                1056      \n",
      "_________________________________________________________________\n",
      "batch_normalization_2 (Batch (None, 32)                128       \n",
      "_________________________________________________________________\n",
      "activation_1 (Activation)    (None, 32)                0         \n",
      "_________________________________________________________________\n",
      "dropout_2 (Dropout)          (None, 32)                0         \n",
      "_________________________________________________________________\n",
      "dense_2 (Dense)              (None, 32)                1056      \n",
      "_________________________________________________________________\n",
      "batch_normalization_3 (Batch (None, 32)                128       \n",
      "_________________________________________________________________\n",
      "activation_2 (Activation)    (None, 32)                0         \n",
      "_________________________________________________________________\n",
      "dense_3 (Dense)              (None, 4)                 132       \n",
      "=================================================================\n",
      "Total params: 15,620,516\n",
      "Trainable params: 13,834,660\n",
      "Non-trainable params: 1,785,856\n",
      "_________________________________________________________________\n"
     ]
    }
   ],
   "source": [
    "# Model Summary\n",
    "\n",
    "model.summary()"
   ]
  },
  {
   "cell_type": "code",
   "execution_count": 11,
   "id": "featured-assistant",
   "metadata": {
    "execution": {
     "iopub.execute_input": "2022-08-04T11:12:03.409873Z",
     "iopub.status.busy": "2022-08-04T11:12:03.408868Z",
     "iopub.status.idle": "2022-08-04T11:12:03.412506Z",
     "shell.execute_reply": "2022-08-04T11:12:03.411822Z",
     "shell.execute_reply.started": "2022-08-04T10:04:03.471658Z"
    },
    "papermill": {
     "duration": 0.031423,
     "end_time": "2022-08-04T11:12:03.412663",
     "exception": false,
     "start_time": "2022-08-04T11:12:03.381240",
     "status": "completed"
    },
    "tags": []
   },
   "outputs": [],
   "source": [
    "def f1_score(y_true, y_pred): #taken from old keras source code\n",
    "    true_positives = K.sum(K.round(K.clip(y_true * y_pred, 0, 1)))\n",
    "    possible_positives = K.sum(K.round(K.clip(y_true, 0, 1)))\n",
    "    predicted_positives = K.sum(K.round(K.clip(y_pred, 0, 1)))\n",
    "    precision = true_positives / (predicted_positives + K.epsilon())\n",
    "    recall = true_positives / (possible_positives + K.epsilon())\n",
    "    f1_val = 2*(precision*recall)/(precision+recall+K.epsilon())\n",
    "    return f1_val"
   ]
  },
  {
   "cell_type": "code",
   "execution_count": 12,
   "id": "vanilla-astronomy",
   "metadata": {
    "execution": {
     "iopub.execute_input": "2022-08-04T11:12:03.471967Z",
     "iopub.status.busy": "2022-08-04T11:12:03.470977Z",
     "iopub.status.idle": "2022-08-04T11:12:03.491010Z",
     "shell.execute_reply": "2022-08-04T11:12:03.490390Z",
     "shell.execute_reply.started": "2022-08-04T10:04:03.480485Z"
    },
    "papermill": {
     "duration": 0.057222,
     "end_time": "2022-08-04T11:12:03.491159",
     "exception": false,
     "start_time": "2022-08-04T11:12:03.433937",
     "status": "completed"
    },
    "tags": []
   },
   "outputs": [],
   "source": [
    "METRICS = [\n",
    "      tf.keras.metrics.BinaryAccuracy(name='accuracy'),\n",
    "      tf.keras.metrics.Precision(name='precision'),\n",
    "      tf.keras.metrics.Recall(name='recall'),  \n",
    "      tf.keras.metrics.AUC(name='auc'),\n",
    "        f1_score,\n",
    "]"
   ]
  },
  {
   "cell_type": "code",
   "execution_count": 13,
   "id": "seventh-spotlight",
   "metadata": {
    "execution": {
     "iopub.execute_input": "2022-08-04T11:12:03.539461Z",
     "iopub.status.busy": "2022-08-04T11:12:03.538566Z",
     "iopub.status.idle": "2022-08-04T11:12:03.542300Z",
     "shell.execute_reply": "2022-08-04T11:12:03.541616Z",
     "shell.execute_reply.started": "2022-08-04T10:04:03.523229Z"
    },
    "papermill": {
     "duration": 0.030034,
     "end_time": "2022-08-04T11:12:03.542505",
     "exception": false,
     "start_time": "2022-08-04T11:12:03.512471",
     "status": "completed"
    },
    "tags": []
   },
   "outputs": [],
   "source": [
    "lrd = ReduceLROnPlateau(monitor = 'val_loss',patience = 3,verbose = 1,factor = 0.50, min_lr = 1e-7)\n",
    "\n",
    "mcp = ModelCheckpoint('model.h5')\n",
    "\n",
    "es = EarlyStopping(verbose=1, patience=3)"
   ]
  },
  {
   "cell_type": "code",
   "execution_count": 14,
   "id": "environmental-african",
   "metadata": {
    "execution": {
     "iopub.execute_input": "2022-08-04T11:12:03.594916Z",
     "iopub.status.busy": "2022-08-04T11:12:03.594142Z",
     "iopub.status.idle": "2022-08-04T11:12:03.605352Z",
     "shell.execute_reply": "2022-08-04T11:12:03.605905Z",
     "shell.execute_reply.started": "2022-08-04T10:04:03.530012Z"
    },
    "papermill": {
     "duration": 0.042661,
     "end_time": "2022-08-04T11:12:03.606096",
     "exception": false,
     "start_time": "2022-08-04T11:12:03.563435",
     "status": "completed"
    },
    "tags": []
   },
   "outputs": [],
   "source": [
    "model.compile(optimizer='Adam', loss='categorical_crossentropy',metrics=METRICS)"
   ]
  },
  {
   "cell_type": "code",
   "execution_count": 15,
   "id": "square-vacation",
   "metadata": {
    "execution": {
     "iopub.execute_input": "2022-08-04T11:12:03.656473Z",
     "iopub.status.busy": "2022-08-04T11:12:03.655713Z",
     "iopub.status.idle": "2022-08-04T11:41:44.231355Z",
     "shell.execute_reply": "2022-08-04T11:41:44.229714Z",
     "shell.execute_reply.started": "2022-08-04T10:13:53.032586Z"
    },
    "papermill": {
     "duration": 1780.604173,
     "end_time": "2022-08-04T11:41:44.231735",
     "exception": false,
     "start_time": "2022-08-04T11:12:03.627562",
     "status": "completed"
    },
    "tags": []
   },
   "outputs": [
    {
     "name": "stdout",
     "output_type": "stream",
     "text": [
      "CPU times: user 3 µs, sys: 1 µs, total: 4 µs\n",
      "Wall time: 7.87 µs\n",
      "Epoch 1/5\n",
      "10/10 [==============================] - 351s 35s/step - loss: 1.7316 - accuracy: 0.7000 - precision: 0.2670 - recall: 0.1148 - auc: 0.4895 - f1_score: 0.1601 - val_loss: 92.0076 - val_accuracy: 0.5903 - val_precision: 0.1806 - val_recall: 0.1806 - val_auc: 0.4537 - val_f1_score: 0.2109\n",
      "Epoch 2/5\n",
      "10/10 [==============================] - 355s 36s/step - loss: 1.5545 - accuracy: 0.7101 - precision: 0.2697 - recall: 0.0930 - auc: 0.5415 - f1_score: 0.1382 - val_loss: 45.9384 - val_accuracy: 0.6597 - val_precision: 0.3194 - val_recall: 0.3194 - val_auc: 0.5477 - val_f1_score: 0.1797\n",
      "Epoch 3/5\n",
      "10/10 [==============================] - 360s 36s/step - loss: 1.3984 - accuracy: 0.7444 - precision: 0.4620 - recall: 0.1360 - auc: 0.6126 - f1_score: 0.2112 - val_loss: 62.9091 - val_accuracy: 0.5903 - val_precision: 0.1806 - val_recall: 0.1806 - val_auc: 0.4537 - val_f1_score: 0.1562\n",
      "Epoch 4/5\n",
      "10/10 [==============================] - 352s 35s/step - loss: 1.3002 - accuracy: 0.7607 - precision: 0.5729 - recall: 0.1674 - auc: 0.6613 - f1_score: 0.2607 - val_loss: 34.5540 - val_accuracy: 0.5972 - val_precision: 0.1944 - val_recall: 0.1944 - val_auc: 0.4630 - val_f1_score: 0.2187\n",
      "Epoch 5/5\n",
      "10/10 [==============================] - 358s 36s/step - loss: 1.3278 - accuracy: 0.7608 - precision: 0.5806 - recall: 0.1535 - auc: 0.6477 - f1_score: 0.2424 - val_loss: 54.1173 - val_accuracy: 0.6319 - val_precision: 0.2639 - val_recall: 0.2639 - val_auc: 0.5256 - val_f1_score: 0.2578\n"
     ]
    }
   ],
   "source": [
    "%time\n",
    "history=model.fit(train_dataset,validation_data=valid_dataset,epochs = 5,verbose = 1,callbacks=[lrd,mcp,es])"
   ]
  },
  {
   "cell_type": "code",
   "execution_count": 16,
   "id": "sexual-edgar",
   "metadata": {
    "execution": {
     "iopub.execute_input": "2022-08-04T11:41:44.315910Z",
     "iopub.status.busy": "2022-08-04T11:41:44.315181Z",
     "iopub.status.idle": "2022-08-04T11:43:15.095433Z",
     "shell.execute_reply": "2022-08-04T11:43:15.096017Z"
    },
    "papermill": {
     "duration": 90.824742,
     "end_time": "2022-08-04T11:43:15.096232",
     "exception": false,
     "start_time": "2022-08-04T11:41:44.271490",
     "status": "completed"
    },
    "tags": []
   },
   "outputs": [
    {
     "name": "stdout",
     "output_type": "stream",
     "text": [
      "5/5 [==============================] - 90s 18s/step - loss: 85.0254 - accuracy: 0.6206 - precision: 0.2413 - recall: 0.2413 - auc: 0.4903 - f1_score: 0.2407\n"
     ]
    },
    {
     "data": {
      "text/plain": [
       "[85.02544403076172,\n",
       " 0.620634913444519,\n",
       " 0.24126984179019928,\n",
       " 0.24126984179019928,\n",
       " 0.4902746379375458,\n",
       " 0.24067790806293488]"
      ]
     },
     "execution_count": 16,
     "metadata": {},
     "output_type": "execute_result"
    }
   ],
   "source": [
    "model.evaluate(test_dataset, verbose=1)"
   ]
  },
  {
   "cell_type": "code",
   "execution_count": 17,
   "id": "incomplete-automation",
   "metadata": {
    "execution": {
     "iopub.execute_input": "2022-08-04T11:43:15.217222Z",
     "iopub.status.busy": "2022-08-04T11:43:15.216497Z",
     "iopub.status.idle": "2022-08-04T11:43:15.997407Z",
     "shell.execute_reply": "2022-08-04T11:43:15.996540Z",
     "shell.execute_reply.started": "2022-08-04T11:09:59.003104Z"
    },
    "papermill": {
     "duration": 0.858169,
     "end_time": "2022-08-04T11:43:15.997576",
     "exception": false,
     "start_time": "2022-08-04T11:43:15.139407",
     "status": "completed"
    },
    "tags": []
   },
   "outputs": [
    {
     "data": {
      "image/png": "[encoded data removed]",
      "text/plain": [
       "<Figure size 1440x360 with 5 Axes>"
      ]
     },
     "metadata": {
      "needs_background": "light"
     },
     "output_type": "display_data"
    }
   ],
   "source": [
    "#%% PLOTTING RESULTS (Train vs Validation FOLDER 1)\n",
    "\n",
    "def Train_Val_Plot(acc,val_acc,loss,val_loss,auc,val_auc,precision,val_precision,f1,val_f1):\n",
    "    \n",
    "    fig, (ax1, ax2,ax3,ax4,ax5) = plt.subplots(1,5, figsize= (20,5))\n",
    "    fig.suptitle(\" MODEL'S METRICS VISUALIZATION \")\n",
    "\n",
    "    ax1.plot(range(1, len(acc) + 1), acc)\n",
    "    ax1.plot(range(1, len(val_acc) + 1), val_acc)\n",
    "    ax1.set_title('History of Accuracy')\n",
    "    ax1.set_xlabel('Epochs')\n",
    "    ax1.set_ylabel('Accuracy')\n",
    "    ax1.legend(['training', 'validation'])\n",
    "\n",
    "\n",
    "    ax2.plot(range(1, len(loss) + 1), loss)\n",
    "    ax2.plot(range(1, len(val_loss) + 1), val_loss)\n",
    "    ax2.set_title('History of Loss')\n",
    "    ax2.set_xlabel('Epochs')\n",
    "    ax2.set_ylabel('Loss')\n",
    "    ax2.legend(['training', 'validation'])\n",
    "    \n",
    "    ax3.plot(range(1, len(auc) + 1), auc)\n",
    "    ax3.plot(range(1, len(val_auc) + 1), val_auc)\n",
    "    ax3.set_title('History of AUC')\n",
    "    ax3.set_xlabel('Epochs')\n",
    "    ax3.set_ylabel('AUC')\n",
    "    ax3.legend(['training', 'validation'])\n",
    "    \n",
    "    ax4.plot(range(1, len(precision) + 1), precision)\n",
    "    ax4.plot(range(1, len(val_precision) + 1), val_precision)\n",
    "    ax4.set_title('History of Precision')\n",
    "    ax4.set_xlabel('Epochs')\n",
    "    ax4.set_ylabel('Precision')\n",
    "    ax4.legend(['training', 'validation'])\n",
    "    \n",
    "    ax5.plot(range(1, len(f1) + 1), f1)\n",
    "    ax5.plot(range(1, len(val_f1) + 1), val_f1)\n",
    "    ax5.set_title('History of F1-score')\n",
    "    ax5.set_xlabel('Epochs')\n",
    "    ax5.set_ylabel('F1 score')\n",
    "    ax5.legend(['training', 'validation'])\n",
    "\n",
    "\n",
    "    plt.show()\n",
    "    \n",
    "\n",
    "Train_Val_Plot(history.history['accuracy'],history.history['val_accuracy'],\n",
    "               history.history['loss'],history.history['val_loss'],\n",
    "               history.history['auc'],history.history['val_auc'],\n",
    "               history.history['precision'],history.history['val_precision'],\n",
    "               history.history['f1_score'],history.history['val_f1_score']\n",
    "              )"
   ]
  }
 ],
 "metadata": {
  "kernelspec": {
   "display_name": "Python 3",
   "language": "python",
   "name": "python3"
  },
  "language_info": {
   "codemirror_mode": {
    "name": "ipython",
    "version": 3
   },
   "file_extension": ".py",
   "mimetype": "text/x-python",
   "name": "python",
   "nbconvert_exporter": "python",
   "pygments_lexer": "ipython3",
   "version": "3.7.9"
  },
  "papermill": {
   "default_parameters": {},
   "duration": 1893.964791,
   "end_time": "2022-08-04T11:43:17.864161",
   "environment_variables": {},
   "exception": null,
   "input_path": "__notebook__.ipynb",
   "output_path": "__notebook__.ipynb",
   "parameters": {},
   "start_time": "2022-08-04T11:11:43.899370",
   "version": "2.3.2"
  }
 },
 "nbformat": 4,
 "nbformat_minor": 5
}
