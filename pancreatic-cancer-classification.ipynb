{
 "cells": [
  {
   "cell_type": "code",
   "execution_count": 1,
   "id": "c229ba33",
   "metadata": {
    "_cell_guid": "a65a9f01-84ca-43d6-a3a2-884d44024b12",
    "_uuid": "c50e62c6-12f8-4d97-89bc-76718d9595ec",
    "collapsed": false,
    "execution": {
     "iopub.execute_input": "2022-08-04T09:55:07.296723Z",
     "iopub.status.busy": "2022-08-04T09:55:07.295723Z",
     "iopub.status.idle": "2022-08-04T09:55:09.807068Z",
     "shell.execute_reply": "2022-08-04T09:55:09.806322Z",
     "shell.execute_reply.started": "2022-08-04T09:49:30.969944Z"
    },
    "jupyter": {
     "outputs_hidden": false
    },
    "papermill": {
     "duration": 2.593191,
     "end_time": "2022-08-04T09:55:09.807378",
     "exception": false,
     "start_time": "2022-08-04T09:55:07.214187",
     "status": "completed"
    },
    "tags": []
   },
   "outputs": [],
   "source": [
    "import pandas as pd\n",
    "import numpy as np\n",
    "import matplotlib.pyplot as plt\n",
    "import seaborn as sns\n",
    "import plotly.express as px\n",
    "### so that u dont have warnings\n",
    "from warnings import filterwarnings\n",
    "filterwarnings('ignore')\n",
    "import plotly.graph_objs as go\n",
    "from plotly.offline import iplot"
   ]
  },
  {
   "cell_type": "markdown",
   "id": "bc85f156",
   "metadata": {
    "_cell_guid": "f4b52f1e-9acc-42b8-8bf4-9e5220dca49f",
    "_uuid": "8dfb99bf-18ca-42fd-a704-013fa6ce3420",
    "papermill": {
     "duration": 0.069421,
     "end_time": "2022-08-04T09:55:09.945585",
     "exception": false,
     "start_time": "2022-08-04T09:55:09.876164",
     "status": "completed"
    },
    "tags": []
   },
   "source": [
    "# Cheak the state of the Data"
   ]
  },
  {
   "cell_type": "code",
   "execution_count": 2,
   "id": "786c5e37",
   "metadata": {
    "_cell_guid": "94c3e91a-7586-49eb-ab0b-6e2b35d3853f",
    "_uuid": "e7269f15-e397-4f88-a9e9-43e61f4f30c6",
    "collapsed": false,
    "execution": {
     "iopub.execute_input": "2022-08-04T09:55:10.091409Z",
     "iopub.status.busy": "2022-08-04T09:55:10.090675Z",
     "iopub.status.idle": "2022-08-04T09:55:10.110025Z",
     "shell.execute_reply": "2022-08-04T09:55:10.110577Z",
     "shell.execute_reply.started": "2022-08-04T09:49:31.179524Z"
    },
    "jupyter": {
     "outputs_hidden": false
    },
    "papermill": {
     "duration": 0.095495,
     "end_time": "2022-08-04T09:55:10.110922",
     "exception": false,
     "start_time": "2022-08-04T09:55:10.015427",
     "status": "completed"
    },
    "tags": []
   },
   "outputs": [],
   "source": [
    "df=pd.read_csv('../input/urinary-biomarkers-for-pancreatic-cancer/Debernardi et al 2020 data.csv')"
   ]
  },
  {
   "cell_type": "code",
   "execution_count": 3,
   "id": "7b149475",
   "metadata": {
    "_cell_guid": "cc88d5a8-2af9-4fde-ac36-e91fb1781e8d",
    "_uuid": "2cbdacfe-f46f-440f-951c-01926aa411ba",
    "collapsed": false,
    "execution": {
     "iopub.execute_input": "2022-08-04T09:55:10.263984Z",
     "iopub.status.busy": "2022-08-04T09:55:10.253189Z",
     "iopub.status.idle": "2022-08-04T09:55:10.292158Z",
     "shell.execute_reply": "2022-08-04T09:55:10.292711Z",
     "shell.execute_reply.started": "2022-08-04T09:49:31.362802Z"
    },
    "jupyter": {
     "outputs_hidden": false
    },
    "papermill": {
     "duration": 0.113141,
     "end_time": "2022-08-04T09:55:10.292900",
     "exception": false,
     "start_time": "2022-08-04T09:55:10.179759",
     "status": "completed"
    },
    "tags": []
   },
   "outputs": [
    {
     "data": {
      "text/html": [
       "<div>\n",
       "<style scoped>\n",
       "    .dataframe tbody tr th:only-of-type {\n",
       "        vertical-align: middle;\n",
       "    }\n",
       "\n",
       "    .dataframe tbody tr th {\n",
       "        vertical-align: top;\n",
       "    }\n",
       "\n",
       "    .dataframe thead th {\n",
       "        text-align: right;\n",
       "    }\n",
       "</style>\n",
       "<table border=\"1\" class=\"dataframe\">\n",
       "  <thead>\n",
       "    <tr style=\"text-align: right;\">\n",
       "      <th></th>\n",
       "      <th>sample_id</th>\n",
       "      <th>patient_cohort</th>\n",
       "      <th>sample_origin</th>\n",
       "      <th>age</th>\n",
       "      <th>sex</th>\n",
       "      <th>diagnosis</th>\n",
       "      <th>stage</th>\n",
       "      <th>benign_sample_diagnosis</th>\n",
       "      <th>plasma_CA19_9</th>\n",
       "      <th>creatinine</th>\n",
       "      <th>LYVE1</th>\n",
       "      <th>REG1B</th>\n",
       "      <th>TFF1</th>\n",
       "      <th>REG1A</th>\n",
       "    </tr>\n",
       "  </thead>\n",
       "  <tbody>\n",
       "    <tr>\n",
       "      <th>0</th>\n",
       "      <td>S1</td>\n",
       "      <td>Cohort1</td>\n",
       "      <td>BPTB</td>\n",
       "      <td>33</td>\n",
       "      <td>F</td>\n",
       "      <td>1</td>\n",
       "      <td>NaN</td>\n",
       "      <td>NaN</td>\n",
       "      <td>11.7</td>\n",
       "      <td>1.83222</td>\n",
       "      <td>0.893219</td>\n",
       "      <td>52.94884</td>\n",
       "      <td>654.282174</td>\n",
       "      <td>1262.000</td>\n",
       "    </tr>\n",
       "    <tr>\n",
       "      <th>1</th>\n",
       "      <td>S10</td>\n",
       "      <td>Cohort1</td>\n",
       "      <td>BPTB</td>\n",
       "      <td>81</td>\n",
       "      <td>F</td>\n",
       "      <td>1</td>\n",
       "      <td>NaN</td>\n",
       "      <td>NaN</td>\n",
       "      <td>NaN</td>\n",
       "      <td>0.97266</td>\n",
       "      <td>2.037585</td>\n",
       "      <td>94.46703</td>\n",
       "      <td>209.488250</td>\n",
       "      <td>228.407</td>\n",
       "    </tr>\n",
       "    <tr>\n",
       "      <th>2</th>\n",
       "      <td>S100</td>\n",
       "      <td>Cohort2</td>\n",
       "      <td>BPTB</td>\n",
       "      <td>51</td>\n",
       "      <td>M</td>\n",
       "      <td>1</td>\n",
       "      <td>NaN</td>\n",
       "      <td>NaN</td>\n",
       "      <td>7.0</td>\n",
       "      <td>0.78039</td>\n",
       "      <td>0.145589</td>\n",
       "      <td>102.36600</td>\n",
       "      <td>461.141000</td>\n",
       "      <td>NaN</td>\n",
       "    </tr>\n",
       "    <tr>\n",
       "      <th>3</th>\n",
       "      <td>S101</td>\n",
       "      <td>Cohort2</td>\n",
       "      <td>BPTB</td>\n",
       "      <td>61</td>\n",
       "      <td>M</td>\n",
       "      <td>1</td>\n",
       "      <td>NaN</td>\n",
       "      <td>NaN</td>\n",
       "      <td>8.0</td>\n",
       "      <td>0.70122</td>\n",
       "      <td>0.002805</td>\n",
       "      <td>60.57900</td>\n",
       "      <td>142.950000</td>\n",
       "      <td>NaN</td>\n",
       "    </tr>\n",
       "    <tr>\n",
       "      <th>4</th>\n",
       "      <td>S102</td>\n",
       "      <td>Cohort2</td>\n",
       "      <td>BPTB</td>\n",
       "      <td>62</td>\n",
       "      <td>M</td>\n",
       "      <td>1</td>\n",
       "      <td>NaN</td>\n",
       "      <td>NaN</td>\n",
       "      <td>9.0</td>\n",
       "      <td>0.21489</td>\n",
       "      <td>0.000860</td>\n",
       "      <td>65.54000</td>\n",
       "      <td>41.088000</td>\n",
       "      <td>NaN</td>\n",
       "    </tr>\n",
       "    <tr>\n",
       "      <th>5</th>\n",
       "      <td>S103</td>\n",
       "      <td>Cohort2</td>\n",
       "      <td>BPTB</td>\n",
       "      <td>53</td>\n",
       "      <td>M</td>\n",
       "      <td>1</td>\n",
       "      <td>NaN</td>\n",
       "      <td>NaN</td>\n",
       "      <td>NaN</td>\n",
       "      <td>0.84825</td>\n",
       "      <td>0.003393</td>\n",
       "      <td>62.12600</td>\n",
       "      <td>59.793000</td>\n",
       "      <td>NaN</td>\n",
       "    </tr>\n",
       "    <tr>\n",
       "      <th>6</th>\n",
       "      <td>S104</td>\n",
       "      <td>Cohort2</td>\n",
       "      <td>BPTB</td>\n",
       "      <td>70</td>\n",
       "      <td>M</td>\n",
       "      <td>1</td>\n",
       "      <td>NaN</td>\n",
       "      <td>NaN</td>\n",
       "      <td>NaN</td>\n",
       "      <td>0.62205</td>\n",
       "      <td>0.174381</td>\n",
       "      <td>152.27700</td>\n",
       "      <td>117.516000</td>\n",
       "      <td>NaN</td>\n",
       "    </tr>\n",
       "    <tr>\n",
       "      <th>7</th>\n",
       "      <td>S105</td>\n",
       "      <td>Cohort2</td>\n",
       "      <td>BPTB</td>\n",
       "      <td>58</td>\n",
       "      <td>F</td>\n",
       "      <td>1</td>\n",
       "      <td>NaN</td>\n",
       "      <td>NaN</td>\n",
       "      <td>11.0</td>\n",
       "      <td>0.89349</td>\n",
       "      <td>0.003574</td>\n",
       "      <td>3.73000</td>\n",
       "      <td>40.294000</td>\n",
       "      <td>NaN</td>\n",
       "    </tr>\n",
       "    <tr>\n",
       "      <th>8</th>\n",
       "      <td>S106</td>\n",
       "      <td>Cohort2</td>\n",
       "      <td>BPTB</td>\n",
       "      <td>59</td>\n",
       "      <td>F</td>\n",
       "      <td>1</td>\n",
       "      <td>NaN</td>\n",
       "      <td>NaN</td>\n",
       "      <td>NaN</td>\n",
       "      <td>0.48633</td>\n",
       "      <td>0.001945</td>\n",
       "      <td>7.02100</td>\n",
       "      <td>26.782000</td>\n",
       "      <td>NaN</td>\n",
       "    </tr>\n",
       "    <tr>\n",
       "      <th>9</th>\n",
       "      <td>S107</td>\n",
       "      <td>Cohort2</td>\n",
       "      <td>BPTB</td>\n",
       "      <td>56</td>\n",
       "      <td>F</td>\n",
       "      <td>1</td>\n",
       "      <td>NaN</td>\n",
       "      <td>NaN</td>\n",
       "      <td>24.0</td>\n",
       "      <td>0.61074</td>\n",
       "      <td>0.278778</td>\n",
       "      <td>83.92800</td>\n",
       "      <td>19.185000</td>\n",
       "      <td>NaN</td>\n",
       "    </tr>\n",
       "  </tbody>\n",
       "</table>\n",
       "</div>"
      ],
      "text/plain": [
       "  sample_id patient_cohort sample_origin  age sex  diagnosis stage  \\\n",
       "0        S1        Cohort1          BPTB   33   F          1   NaN   \n",
       "1       S10        Cohort1          BPTB   81   F          1   NaN   \n",
       "2      S100        Cohort2          BPTB   51   M          1   NaN   \n",
       "3      S101        Cohort2          BPTB   61   M          1   NaN   \n",
       "4      S102        Cohort2          BPTB   62   M          1   NaN   \n",
       "5      S103        Cohort2          BPTB   53   M          1   NaN   \n",
       "6      S104        Cohort2          BPTB   70   M          1   NaN   \n",
       "7      S105        Cohort2          BPTB   58   F          1   NaN   \n",
       "8      S106        Cohort2          BPTB   59   F          1   NaN   \n",
       "9      S107        Cohort2          BPTB   56   F          1   NaN   \n",
       "\n",
       "  benign_sample_diagnosis  plasma_CA19_9  creatinine     LYVE1      REG1B  \\\n",
       "0                     NaN           11.7     1.83222  0.893219   52.94884   \n",
       "1                     NaN            NaN     0.97266  2.037585   94.46703   \n",
       "2                     NaN            7.0     0.78039  0.145589  102.36600   \n",
       "3                     NaN            8.0     0.70122  0.002805   60.57900   \n",
       "4                     NaN            9.0     0.21489  0.000860   65.54000   \n",
       "5                     NaN            NaN     0.84825  0.003393   62.12600   \n",
       "6                     NaN            NaN     0.62205  0.174381  152.27700   \n",
       "7                     NaN           11.0     0.89349  0.003574    3.73000   \n",
       "8                     NaN            NaN     0.48633  0.001945    7.02100   \n",
       "9                     NaN           24.0     0.61074  0.278778   83.92800   \n",
       "\n",
       "         TFF1     REG1A  \n",
       "0  654.282174  1262.000  \n",
       "1  209.488250   228.407  \n",
       "2  461.141000       NaN  \n",
       "3  142.950000       NaN  \n",
       "4   41.088000       NaN  \n",
       "5   59.793000       NaN  \n",
       "6  117.516000       NaN  \n",
       "7   40.294000       NaN  \n",
       "8   26.782000       NaN  \n",
       "9   19.185000       NaN  "
      ]
     },
     "execution_count": 3,
     "metadata": {},
     "output_type": "execute_result"
    }
   ],
   "source": [
    "df.head(10)"
   ]
  },
  {
   "cell_type": "code",
   "execution_count": 4,
   "id": "189ffd0f",
   "metadata": {
    "_cell_guid": "80e056ca-5d60-426f-8e52-da9a1f288420",
    "_uuid": "856758dd-248a-401f-ae84-43f676240f09",
    "collapsed": false,
    "execution": {
     "iopub.execute_input": "2022-08-04T09:55:10.436178Z",
     "iopub.status.busy": "2022-08-04T09:55:10.434970Z",
     "iopub.status.idle": "2022-08-04T09:55:10.438596Z",
     "shell.execute_reply": "2022-08-04T09:55:10.439132Z",
     "shell.execute_reply.started": "2022-08-04T09:49:31.497338Z"
    },
    "jupyter": {
     "outputs_hidden": false
    },
    "papermill": {
     "duration": 0.076598,
     "end_time": "2022-08-04T09:55:10.439317",
     "exception": false,
     "start_time": "2022-08-04T09:55:10.362719",
     "status": "completed"
    },
    "tags": []
   },
   "outputs": [
    {
     "data": {
      "text/plain": [
       "(590, 14)"
      ]
     },
     "execution_count": 4,
     "metadata": {},
     "output_type": "execute_result"
    }
   ],
   "source": [
    "df.shape"
   ]
  },
  {
   "cell_type": "code",
   "execution_count": 5,
   "id": "cd267a28",
   "metadata": {
    "_cell_guid": "8528d3ad-6598-4b16-a98b-1a625c063a88",
    "_uuid": "61c1f58a-bfc9-4ef9-99be-5f1905103ea1",
    "collapsed": false,
    "execution": {
     "iopub.execute_input": "2022-08-04T09:55:10.595667Z",
     "iopub.status.busy": "2022-08-04T09:55:10.594596Z",
     "iopub.status.idle": "2022-08-04T09:55:10.620385Z",
     "shell.execute_reply": "2022-08-04T09:55:10.619461Z",
     "shell.execute_reply.started": "2022-08-04T09:49:31.642649Z"
    },
    "jupyter": {
     "outputs_hidden": false
    },
    "papermill": {
     "duration": 0.111591,
     "end_time": "2022-08-04T09:55:10.620593",
     "exception": false,
     "start_time": "2022-08-04T09:55:10.509002",
     "status": "completed"
    },
    "tags": []
   },
   "outputs": [
    {
     "name": "stdout",
     "output_type": "stream",
     "text": [
      "<class 'pandas.core.frame.DataFrame'>\n",
      "RangeIndex: 590 entries, 0 to 589\n",
      "Data columns (total 14 columns):\n",
      " #   Column                   Non-Null Count  Dtype  \n",
      "---  ------                   --------------  -----  \n",
      " 0   sample_id                590 non-null    object \n",
      " 1   patient_cohort           590 non-null    object \n",
      " 2   sample_origin            590 non-null    object \n",
      " 3   age                      590 non-null    int64  \n",
      " 4   sex                      590 non-null    object \n",
      " 5   diagnosis                590 non-null    int64  \n",
      " 6   stage                    199 non-null    object \n",
      " 7   benign_sample_diagnosis  208 non-null    object \n",
      " 8   plasma_CA19_9            350 non-null    float64\n",
      " 9   creatinine               590 non-null    float64\n",
      " 10  LYVE1                    590 non-null    float64\n",
      " 11  REG1B                    590 non-null    float64\n",
      " 12  TFF1                     590 non-null    float64\n",
      " 13  REG1A                    306 non-null    float64\n",
      "dtypes: float64(6), int64(2), object(6)\n",
      "memory usage: 64.7+ KB\n"
     ]
    }
   ],
   "source": [
    "df.info()"
   ]
  },
  {
   "cell_type": "code",
   "execution_count": 6,
   "id": "eae14480",
   "metadata": {
    "_cell_guid": "682834b6-22a6-406b-b9eb-f8cd8108705e",
    "_uuid": "dc332500-4d59-4143-bd19-5869df0eec10",
    "collapsed": false,
    "execution": {
     "iopub.execute_input": "2022-08-04T09:55:10.767859Z",
     "iopub.status.busy": "2022-08-04T09:55:10.767204Z",
     "iopub.status.idle": "2022-08-04T09:55:10.775385Z",
     "shell.execute_reply": "2022-08-04T09:55:10.775943Z",
     "shell.execute_reply.started": "2022-08-04T09:49:31.782187Z"
    },
    "jupyter": {
     "outputs_hidden": false
    },
    "papermill": {
     "duration": 0.083419,
     "end_time": "2022-08-04T09:55:10.776140",
     "exception": false,
     "start_time": "2022-08-04T09:55:10.692721",
     "status": "completed"
    },
    "tags": []
   },
   "outputs": [
    {
     "data": {
      "text/plain": [
       "sample_id                    0\n",
       "patient_cohort               0\n",
       "sample_origin                0\n",
       "age                          0\n",
       "sex                          0\n",
       "diagnosis                    0\n",
       "stage                      391\n",
       "benign_sample_diagnosis    382\n",
       "plasma_CA19_9              240\n",
       "creatinine                   0\n",
       "LYVE1                        0\n",
       "REG1B                        0\n",
       "TFF1                         0\n",
       "REG1A                      284\n",
       "dtype: int64"
      ]
     },
     "execution_count": 6,
     "metadata": {},
     "output_type": "execute_result"
    }
   ],
   "source": [
    "df.isna().sum()"
   ]
  },
  {
   "cell_type": "code",
   "execution_count": 7,
   "id": "42015aec",
   "metadata": {
    "_cell_guid": "c64a6323-8bc9-42d4-a7d3-1066a22dbe9c",
    "_uuid": "90ef45ea-6f3d-49da-9367-e23db2a9af0d",
    "collapsed": false,
    "execution": {
     "iopub.execute_input": "2022-08-04T09:55:10.921224Z",
     "iopub.status.busy": "2022-08-04T09:55:10.920498Z",
     "iopub.status.idle": "2022-08-04T09:55:10.929625Z",
     "shell.execute_reply": "2022-08-04T09:55:10.930186Z",
     "shell.execute_reply.started": "2022-08-04T09:49:31.928295Z"
    },
    "jupyter": {
     "outputs_hidden": false
    },
    "papermill": {
     "duration": 0.084804,
     "end_time": "2022-08-04T09:55:10.930365",
     "exception": false,
     "start_time": "2022-08-04T09:55:10.845561",
     "status": "completed"
    },
    "tags": []
   },
   "outputs": [
    {
     "data": {
      "text/plain": [
       "['stage', 'benign_sample_diagnosis', 'plasma_CA19_9', 'REG1A']"
      ]
     },
     "execution_count": 7,
     "metadata": {},
     "output_type": "execute_result"
    }
   ],
   "source": [
    "feature_na=[feature for feature in df.columns if df[feature].isnull().sum()>0]\n",
    "feature_na"
   ]
  },
  {
   "cell_type": "code",
   "execution_count": 8,
   "id": "4441e40e",
   "metadata": {
    "_cell_guid": "10252a08-4d9a-4788-bd91-9ed917ea1735",
    "_uuid": "e3b99487-f93c-492a-b877-1ec0322747c2",
    "collapsed": false,
    "execution": {
     "iopub.execute_input": "2022-08-04T09:55:11.081628Z",
     "iopub.status.busy": "2022-08-04T09:55:11.080828Z",
     "iopub.status.idle": "2022-08-04T09:55:11.084159Z",
     "shell.execute_reply": "2022-08-04T09:55:11.086039Z",
     "shell.execute_reply.started": "2022-08-04T09:49:32.069836Z"
    },
    "jupyter": {
     "outputs_hidden": false
    },
    "papermill": {
     "duration": 0.08281,
     "end_time": "2022-08-04T09:55:11.086540",
     "exception": false,
     "start_time": "2022-08-04T09:55:11.003730",
     "status": "completed"
    },
    "tags": []
   },
   "outputs": [
    {
     "name": "stdout",
     "output_type": "stream",
     "text": [
      "stage has 66.2712 % missing values\n",
      "benign_sample_diagnosis has 64.7458 % missing values\n",
      "plasma_CA19_9 has 40.678 % missing values\n",
      "REG1A has 48.1356 % missing values\n"
     ]
    }
   ],
   "source": [
    "#% of missing values\n",
    "for feature in feature_na:\n",
    "    print('{} has {} % missing values'.format(feature,np.round(df[feature].isnull().sum()/len(df)*100,4)))"
   ]
  },
  {
   "cell_type": "code",
   "execution_count": 9,
   "id": "66549872",
   "metadata": {
    "_cell_guid": "a022d0ee-294c-4bf7-8423-55a2d878c1bf",
    "_uuid": "1f2e7918-0f54-4401-8c7d-42e856656122",
    "collapsed": false,
    "execution": {
     "iopub.execute_input": "2022-08-04T09:55:11.235127Z",
     "iopub.status.busy": "2022-08-04T09:55:11.234100Z",
     "iopub.status.idle": "2022-08-04T09:55:11.239253Z",
     "shell.execute_reply": "2022-08-04T09:55:11.238648Z",
     "shell.execute_reply.started": "2022-08-04T09:49:32.217030Z"
    },
    "jupyter": {
     "outputs_hidden": false
    },
    "papermill": {
     "duration": 0.081438,
     "end_time": "2022-08-04T09:55:11.239412",
     "exception": false,
     "start_time": "2022-08-04T09:55:11.157974",
     "status": "completed"
    },
    "tags": []
   },
   "outputs": [],
   "source": [
    "del(df['stage'])\n",
    "del(df['benign_sample_diagnosis'])\n",
    "del(df['sample_id'])"
   ]
  },
  {
   "cell_type": "code",
   "execution_count": 10,
   "id": "746d27ef",
   "metadata": {
    "_cell_guid": "dc219dfe-975f-4b67-861a-c1f998971a55",
    "_uuid": "d536b344-c5da-4e46-811e-0fd7de15ab0e",
    "collapsed": false,
    "execution": {
     "iopub.execute_input": "2022-08-04T09:55:11.393316Z",
     "iopub.status.busy": "2022-08-04T09:55:11.392609Z",
     "iopub.status.idle": "2022-08-04T09:55:11.394693Z",
     "shell.execute_reply": "2022-08-04T09:55:11.394063Z",
     "shell.execute_reply.started": "2022-08-04T09:49:32.360158Z"
    },
    "jupyter": {
     "outputs_hidden": false
    },
    "papermill": {
     "duration": 0.083373,
     "end_time": "2022-08-04T09:55:11.394842",
     "exception": false,
     "start_time": "2022-08-04T09:55:11.311469",
     "status": "completed"
    },
    "tags": []
   },
   "outputs": [],
   "source": [
    " \n",
    "df['plasma_CA19_9'].fillna(int(df['plasma_CA19_9'].mean()), inplace=True)"
   ]
  },
  {
   "cell_type": "code",
   "execution_count": 11,
   "id": "c85994e5",
   "metadata": {
    "_cell_guid": "67322050-f06f-416f-a710-8ecc5622fa17",
    "_uuid": "75664a04-5588-49f1-a16b-d077b0645e4b",
    "collapsed": false,
    "execution": {
     "iopub.execute_input": "2022-08-04T09:55:11.549532Z",
     "iopub.status.busy": "2022-08-04T09:55:11.548794Z",
     "iopub.status.idle": "2022-08-04T09:55:11.551284Z",
     "shell.execute_reply": "2022-08-04T09:55:11.551801Z",
     "shell.execute_reply.started": "2022-08-04T09:49:32.496178Z"
    },
    "jupyter": {
     "outputs_hidden": false
    },
    "papermill": {
     "duration": 0.084759,
     "end_time": "2022-08-04T09:55:11.551995",
     "exception": false,
     "start_time": "2022-08-04T09:55:11.467236",
     "status": "completed"
    },
    "tags": []
   },
   "outputs": [],
   "source": [
    " \n",
    "df['REG1A'].fillna(int(df['REG1A'].mean()), inplace=True)"
   ]
  },
  {
   "cell_type": "code",
   "execution_count": 12,
   "id": "b7a557ae",
   "metadata": {
    "_cell_guid": "2d2d1bc3-c548-4a40-b2ac-f67f23116732",
    "_uuid": "1c4d4ecc-9b45-4026-ab78-f3121e492296",
    "collapsed": false,
    "execution": {
     "iopub.execute_input": "2022-08-04T09:55:11.700611Z",
     "iopub.status.busy": "2022-08-04T09:55:11.699960Z",
     "iopub.status.idle": "2022-08-04T09:55:11.707665Z",
     "shell.execute_reply": "2022-08-04T09:55:11.708262Z",
     "shell.execute_reply.started": "2022-08-04T09:49:32.636789Z"
    },
    "jupyter": {
     "outputs_hidden": false
    },
    "papermill": {
     "duration": 0.082315,
     "end_time": "2022-08-04T09:55:11.708461",
     "exception": false,
     "start_time": "2022-08-04T09:55:11.626146",
     "status": "completed"
    },
    "tags": []
   },
   "outputs": [
    {
     "data": {
      "text/plain": [
       "patient_cohort    0\n",
       "sample_origin     0\n",
       "age               0\n",
       "sex               0\n",
       "diagnosis         0\n",
       "plasma_CA19_9     0\n",
       "creatinine        0\n",
       "LYVE1             0\n",
       "REG1B             0\n",
       "TFF1              0\n",
       "REG1A             0\n",
       "dtype: int64"
      ]
     },
     "execution_count": 12,
     "metadata": {},
     "output_type": "execute_result"
    }
   ],
   "source": [
    "df.isna().sum()"
   ]
  },
  {
   "cell_type": "code",
   "execution_count": 13,
   "id": "53925866",
   "metadata": {
    "_cell_guid": "7f6453bf-8a12-46b3-a74e-aa316d8cec1f",
    "_uuid": "5388555b-ff7b-4278-b99a-66e60f732191",
    "collapsed": false,
    "execution": {
     "iopub.execute_input": "2022-08-04T09:55:11.853089Z",
     "iopub.status.busy": "2022-08-04T09:55:11.852384Z",
     "iopub.status.idle": "2022-08-04T09:55:11.860542Z",
     "shell.execute_reply": "2022-08-04T09:55:11.861077Z",
     "shell.execute_reply.started": "2022-08-04T09:49:32.805036Z"
    },
    "jupyter": {
     "outputs_hidden": false
    },
    "papermill": {
     "duration": 0.082867,
     "end_time": "2022-08-04T09:55:11.861257",
     "exception": false,
     "start_time": "2022-08-04T09:55:11.778390",
     "status": "completed"
    },
    "tags": []
   },
   "outputs": [
    {
     "data": {
      "text/plain": [
       "[]"
      ]
     },
     "execution_count": 13,
     "metadata": {},
     "output_type": "execute_result"
    }
   ],
   "source": [
    "feature_na=[feature for feature in df.columns if df[feature].isnull().sum()>0]\n",
    "feature_na"
   ]
  },
  {
   "cell_type": "markdown",
   "id": "fc4f124a",
   "metadata": {
    "_cell_guid": "2cf0b826-5f9d-40a3-9fb8-3ad3a7306e64",
    "_uuid": "9f324ea3-5d6c-4483-836b-68ae4fe252ee",
    "papermill": {
     "duration": 0.069333,
     "end_time": "2022-08-04T09:55:12.003192",
     "exception": false,
     "start_time": "2022-08-04T09:55:11.933859",
     "status": "completed"
    },
    "tags": []
   },
   "source": [
    "### Now the data clean and we have not any missing value"
   ]
  },
  {
   "cell_type": "markdown",
   "id": "13abc016",
   "metadata": {
    "_cell_guid": "5fd88152-0047-4e6f-9394-216b302eacf7",
    "_uuid": "df924b6c-24a3-4bef-91f6-607d659d2c28",
    "papermill": {
     "duration": 0.075287,
     "end_time": "2022-08-04T09:55:12.150449",
     "exception": false,
     "start_time": "2022-08-04T09:55:12.075162",
     "status": "completed"
    },
    "tags": []
   },
   "source": [
    "# EDA for the data"
   ]
  },
  {
   "cell_type": "code",
   "execution_count": 14,
   "id": "68a559fc",
   "metadata": {
    "_cell_guid": "3ca285ee-187e-4b3d-bb5a-6df1c7d50791",
    "_uuid": "32001b61-850d-4f2e-9380-5aac37289a02",
    "collapsed": false,
    "execution": {
     "iopub.execute_input": "2022-08-04T09:55:12.295043Z",
     "iopub.status.busy": "2022-08-04T09:55:12.294218Z",
     "iopub.status.idle": "2022-08-04T09:55:12.300157Z",
     "shell.execute_reply": "2022-08-04T09:55:12.300709Z",
     "shell.execute_reply.started": "2022-08-04T09:49:32.944037Z"
    },
    "jupyter": {
     "outputs_hidden": false
    },
    "papermill": {
     "duration": 0.079469,
     "end_time": "2022-08-04T09:55:12.300895",
     "exception": false,
     "start_time": "2022-08-04T09:55:12.221426",
     "status": "completed"
    },
    "tags": []
   },
   "outputs": [
    {
     "data": {
      "text/plain": [
       "3"
      ]
     },
     "execution_count": 14,
     "metadata": {},
     "output_type": "execute_result"
    }
   ],
   "source": [
    "len(df['diagnosis'].unique())"
   ]
  },
  {
   "cell_type": "code",
   "execution_count": 15,
   "id": "0a6dabab",
   "metadata": {
    "_cell_guid": "56ce7390-00dc-4c5a-9510-d8ff9aebda90",
    "_uuid": "cc0b9bb7-a677-4cbe-b717-760715a4f63c",
    "collapsed": false,
    "execution": {
     "iopub.execute_input": "2022-08-04T09:55:12.453792Z",
     "iopub.status.busy": "2022-08-04T09:55:12.453085Z",
     "iopub.status.idle": "2022-08-04T09:55:12.458727Z",
     "shell.execute_reply": "2022-08-04T09:55:12.459372Z",
     "shell.execute_reply.started": "2022-08-04T09:49:33.081232Z"
    },
    "jupyter": {
     "outputs_hidden": false
    },
    "papermill": {
     "duration": 0.08395,
     "end_time": "2022-08-04T09:55:12.459577",
     "exception": false,
     "start_time": "2022-08-04T09:55:12.375627",
     "status": "completed"
    },
    "tags": []
   },
   "outputs": [
    {
     "data": {
      "text/plain": [
       "array([33, 81, 51, 61, 62, 53, 70, 58, 59, 56, 77, 71, 49, 60, 69, 55, 28,\n",
       "       54, 50, 40, 74, 63, 47, 45, 35, 30, 48, 44, 41, 89, 87, 66, 36, 67,\n",
       "       73, 83, 65, 64, 26, 34, 57, 46, 38, 84, 68, 37, 52, 78, 43, 76, 72,\n",
       "       32, 39, 29, 82, 31, 75, 79, 42, 80, 88, 86, 85])"
      ]
     },
     "execution_count": 15,
     "metadata": {},
     "output_type": "execute_result"
    }
   ],
   "source": [
    "df['age'].unique()"
   ]
  },
  {
   "cell_type": "code",
   "execution_count": 16,
   "id": "478bb8a8",
   "metadata": {
    "_cell_guid": "12642394-95d5-4f44-8f88-21fb0d785401",
    "_uuid": "23ff6e6e-0505-44bf-839b-cd26c051d096",
    "collapsed": false,
    "execution": {
     "iopub.execute_input": "2022-08-04T09:55:12.614201Z",
     "iopub.status.busy": "2022-08-04T09:55:12.613454Z",
     "iopub.status.idle": "2022-08-04T09:55:12.619413Z",
     "shell.execute_reply": "2022-08-04T09:55:12.619962Z",
     "shell.execute_reply.started": "2022-08-04T09:49:33.249846Z"
    },
    "jupyter": {
     "outputs_hidden": false
    },
    "papermill": {
     "duration": 0.084923,
     "end_time": "2022-08-04T09:55:12.620144",
     "exception": false,
     "start_time": "2022-08-04T09:55:12.535221",
     "status": "completed"
    },
    "tags": []
   },
   "outputs": [
    {
     "data": {
      "text/plain": [
       "array(['F', 'M'], dtype=object)"
      ]
     },
     "execution_count": 16,
     "metadata": {},
     "output_type": "execute_result"
    }
   ],
   "source": [
    "df['sex'].unique()"
   ]
  },
  {
   "cell_type": "code",
   "execution_count": 17,
   "id": "abc4c408",
   "metadata": {
    "_cell_guid": "6ce9391e-facd-499f-a2da-f4a71314142b",
    "_uuid": "ed017f90-036d-441f-b661-aeb13f7eb587",
    "collapsed": false,
    "execution": {
     "iopub.execute_input": "2022-08-04T09:55:12.770168Z",
     "iopub.status.busy": "2022-08-04T09:55:12.769462Z",
     "iopub.status.idle": "2022-08-04T09:55:12.780421Z",
     "shell.execute_reply": "2022-08-04T09:55:12.779797Z",
     "shell.execute_reply.started": "2022-08-04T09:49:33.389020Z"
    },
    "jupyter": {
     "outputs_hidden": false
    },
    "papermill": {
     "duration": 0.089517,
     "end_time": "2022-08-04T09:55:12.780581",
     "exception": false,
     "start_time": "2022-08-04T09:55:12.691064",
     "status": "completed"
    },
    "tags": []
   },
   "outputs": [
    {
     "data": {
      "text/plain": [
       "age\n",
       "26    1.500000\n",
       "28    1.333333\n",
       "29    2.200000\n",
       "30    1.250000\n",
       "31    2.000000\n",
       "        ...   \n",
       "85    3.000000\n",
       "86    3.000000\n",
       "87    1.666667\n",
       "88    3.000000\n",
       "89    1.000000\n",
       "Name: diagnosis, Length: 63, dtype: float64"
      ]
     },
     "execution_count": 17,
     "metadata": {},
     "output_type": "execute_result"
    }
   ],
   "source": [
    "df.groupby('age')['diagnosis'].mean()"
   ]
  },
  {
   "cell_type": "code",
   "execution_count": 18,
   "id": "66449d4e",
   "metadata": {
    "_cell_guid": "5f5b4b7d-7754-4303-b06a-cde58756358d",
    "_uuid": "73339bcf-583d-47e3-bea1-b0b99c21150b",
    "collapsed": false,
    "execution": {
     "iopub.execute_input": "2022-08-04T09:55:12.934869Z",
     "iopub.status.busy": "2022-08-04T09:55:12.934108Z",
     "iopub.status.idle": "2022-08-04T09:55:13.295803Z",
     "shell.execute_reply": "2022-08-04T09:55:13.296404Z",
     "shell.execute_reply.started": "2022-08-04T09:49:33.640098Z"
    },
    "jupyter": {
     "outputs_hidden": false
    },
    "papermill": {
     "duration": 0.442116,
     "end_time": "2022-08-04T09:55:13.296594",
     "exception": false,
     "start_time": "2022-08-04T09:55:12.854478",
     "status": "completed"
    },
    "tags": []
   },
   "outputs": [
    {
     "data": {
      "text/plain": [
       "<AxesSubplot:xlabel='age'>"
      ]
     },
     "execution_count": 18,
     "metadata": {},
     "output_type": "execute_result"
    },
    {
     "data": {
      "image/png": "[encoded data removed]",
      "text/plain": [
       "<Figure size 432x288 with 1 Axes>"
      ]
     },
     "metadata": {
      "needs_background": "light"
     },
     "output_type": "display_data"
    }
   ],
   "source": [
    "df.groupby('age')['diagnosis'].mean().nlargest(20).plot.bar(color='blue')"
   ]
  },
  {
   "cell_type": "code",
   "execution_count": 19,
   "id": "3e8d7511",
   "metadata": {
    "_cell_guid": "9b45ff45-7434-4fb3-aea5-4629665ce5be",
    "_uuid": "a55bf6c7-d7ba-4013-a71a-2822db529aa4",
    "collapsed": false,
    "execution": {
     "iopub.execute_input": "2022-08-04T09:55:13.449865Z",
     "iopub.status.busy": "2022-08-04T09:55:13.449210Z",
     "iopub.status.idle": "2022-08-04T09:55:13.457316Z",
     "shell.execute_reply": "2022-08-04T09:55:13.457939Z",
     "shell.execute_reply.started": "2022-08-04T09:49:34.028480Z"
    },
    "jupyter": {
     "outputs_hidden": false
    },
    "papermill": {
     "duration": 0.084715,
     "end_time": "2022-08-04T09:55:13.458131",
     "exception": false,
     "start_time": "2022-08-04T09:55:13.373416",
     "status": "completed"
    },
    "tags": []
   },
   "outputs": [
    {
     "data": {
      "text/plain": [
       "sex\n",
       "F    1.892977\n",
       "M    2.164948\n",
       "Name: diagnosis, dtype: float64"
      ]
     },
     "execution_count": 19,
     "metadata": {},
     "output_type": "execute_result"
    }
   ],
   "source": [
    "df.groupby('sex')['diagnosis'].mean()"
   ]
  },
  {
   "cell_type": "code",
   "execution_count": 20,
   "id": "d7d33d02",
   "metadata": {
    "_cell_guid": "aed58416-4821-4b05-8a97-3c51e58e2177",
    "_uuid": "5f652fb9-1589-4470-aff4-5eb5d971408a",
    "collapsed": false,
    "execution": {
     "iopub.execute_input": "2022-08-04T09:55:13.609085Z",
     "iopub.status.busy": "2022-08-04T09:55:13.608432Z",
     "iopub.status.idle": "2022-08-04T09:55:13.923478Z",
     "shell.execute_reply": "2022-08-04T09:55:13.922808Z",
     "shell.execute_reply.started": "2022-08-04T09:49:34.037771Z"
    },
    "jupyter": {
     "outputs_hidden": false
    },
    "papermill": {
     "duration": 0.390656,
     "end_time": "2022-08-04T09:55:13.923639",
     "exception": false,
     "start_time": "2022-08-04T09:55:13.532983",
     "status": "completed"
    },
    "tags": []
   },
   "outputs": [
    {
     "data": {
      "text/plain": [
       "<AxesSubplot:xlabel='sex'>"
      ]
     },
     "execution_count": 20,
     "metadata": {},
     "output_type": "execute_result"
    },
    {
     "data": {
      "image/png": "[encoded data removed]",
      "text/plain": [
       "<Figure size 432x288 with 1 Axes>"
      ]
     },
     "metadata": {
      "needs_background": "light"
     },
     "output_type": "display_data"
    }
   ],
   "source": [
    "df.groupby('sex')['diagnosis'].mean().nlargest(20).plot.bar()"
   ]
  },
  {
   "cell_type": "code",
   "execution_count": 21,
   "id": "2988df9a",
   "metadata": {
    "_cell_guid": "2deb35f4-7eeb-4439-bc9c-7873693eaac6",
    "_uuid": "be9671a4-c775-4afc-81f2-0e9a1851c5a1",
    "collapsed": false,
    "execution": {
     "iopub.execute_input": "2022-08-04T09:55:14.079998Z",
     "iopub.status.busy": "2022-08-04T09:55:14.079274Z",
     "iopub.status.idle": "2022-08-04T09:55:14.402857Z",
     "shell.execute_reply": "2022-08-04T09:55:14.402238Z",
     "shell.execute_reply.started": "2022-08-04T09:49:34.185758Z"
    },
    "jupyter": {
     "outputs_hidden": false
    },
    "papermill": {
     "duration": 0.404053,
     "end_time": "2022-08-04T09:55:14.403044",
     "exception": false,
     "start_time": "2022-08-04T09:55:13.998991",
     "status": "completed"
    },
    "tags": []
   },
   "outputs": [
    {
     "data": {
      "text/plain": [
       "<AxesSubplot:xlabel='diagnosis', ylabel='Density'>"
      ]
     },
     "execution_count": 21,
     "metadata": {},
     "output_type": "execute_result"
    },
    {
     "data": {
      "image/png": "[encoded data removed]",
      "text/plain": [
       "<Figure size 432x288 with 1 Axes>"
      ]
     },
     "metadata": {},
     "output_type": "display_data"
    }
   ],
   "source": [
    "# Calc the diagnosis distribution\n",
    "sns.set_style(style='whitegrid')\n",
    "sns.distplot(df['diagnosis'])"
   ]
  },
  {
   "cell_type": "code",
   "execution_count": 22,
   "id": "12d3ce1a",
   "metadata": {
    "_cell_guid": "fdb17681-de96-4b27-8ff1-039bbd85df38",
    "_uuid": "72b5a8d9-043a-4bc5-8db1-7d39373de287",
    "collapsed": false,
    "execution": {
     "iopub.execute_input": "2022-08-04T09:55:14.578977Z",
     "iopub.status.busy": "2022-08-04T09:55:14.561846Z",
     "iopub.status.idle": "2022-08-04T09:55:14.883693Z",
     "shell.execute_reply": "2022-08-04T09:55:14.884348Z",
     "shell.execute_reply.started": "2022-08-04T09:49:34.431142Z"
    },
    "jupyter": {
     "outputs_hidden": false
    },
    "papermill": {
     "duration": 0.40422,
     "end_time": "2022-08-04T09:55:14.884555",
     "exception": false,
     "start_time": "2022-08-04T09:55:14.480335",
     "status": "completed"
    },
    "tags": []
   },
   "outputs": [
    {
     "data": {
      "text/plain": [
       "<AxesSubplot:xlabel='age', ylabel='Density'>"
      ]
     },
     "execution_count": 22,
     "metadata": {},
     "output_type": "execute_result"
    },
    {
     "data": {
      "image/png": "[encoded data removed]",
      "text/plain": [
       "<Figure size 432x288 with 1 Axes>"
      ]
     },
     "metadata": {},
     "output_type": "display_data"
    }
   ],
   "source": [
    "# Calc the age distribution\n",
    "sns.set_style(style='whitegrid')\n",
    "sns.distplot(df['age'])"
   ]
  },
  {
   "cell_type": "code",
   "execution_count": 23,
   "id": "7031302a",
   "metadata": {
    "_cell_guid": "93d22539-b820-4ac1-8d6d-3445854928ba",
    "_uuid": "4d4eca57-49c6-4657-a8ba-1fc592091785",
    "collapsed": false,
    "execution": {
     "iopub.execute_input": "2022-08-04T09:55:15.053707Z",
     "iopub.status.busy": "2022-08-04T09:55:15.052419Z",
     "iopub.status.idle": "2022-08-04T09:55:15.883165Z",
     "shell.execute_reply": "2022-08-04T09:55:15.882561Z",
     "shell.execute_reply.started": "2022-08-04T09:49:34.697975Z"
    },
    "jupyter": {
     "outputs_hidden": false
    },
    "papermill": {
     "duration": 0.915711,
     "end_time": "2022-08-04T09:55:15.883325",
     "exception": false,
     "start_time": "2022-08-04T09:55:14.967614",
     "status": "completed"
    },
    "tags": []
   },
   "outputs": [
    {
     "data": {
      "text/plain": [
       "Text(0.5, 0, 'Number of outlets')"
      ]
     },
     "execution_count": 23,
     "metadata": {},
     "output_type": "execute_result"
    },
    {
     "data": {
      "image/png": "[encoded data removed]",
      "text/plain": [
       "<Figure size 720x504 with 1 Axes>"
      ]
     },
     "metadata": {},
     "output_type": "display_data"
    }
   ],
   "source": [
    "plt.figure(figsize=(10,7))\n",
    "chains=df['age'].value_counts()[0:100]\n",
    "sns.barplot(x=chains,y=chains.index,palette='deep')\n",
    "plt.title(\"Most age \")\n",
    "plt.xlabel(\"Number of outlets\")"
   ]
  },
  {
   "cell_type": "code",
   "execution_count": 24,
   "id": "1171cc05",
   "metadata": {
    "_cell_guid": "7b629874-577c-4073-b689-0105ce72e51e",
    "_uuid": "7bc7edaf-54a2-47f9-8954-28906327b9fc",
    "collapsed": false,
    "execution": {
     "iopub.execute_input": "2022-08-04T09:55:16.080077Z",
     "iopub.status.busy": "2022-08-04T09:55:16.078983Z",
     "iopub.status.idle": "2022-08-04T09:55:16.081430Z",
     "shell.execute_reply": "2022-08-04T09:55:16.082106Z",
     "shell.execute_reply.started": "2022-08-04T09:49:35.455884Z"
    },
    "jupyter": {
     "outputs_hidden": false
    },
    "papermill": {
     "duration": 0.116846,
     "end_time": "2022-08-04T09:55:16.082340",
     "exception": false,
     "start_time": "2022-08-04T09:55:15.965494",
     "status": "completed"
    },
    "tags": []
   },
   "outputs": [],
   "source": [
    "x=df['sex'].value_counts()\n",
    "labels=['Male','Female']"
   ]
  },
  {
   "cell_type": "code",
   "execution_count": 25,
   "id": "12fb82e5",
   "metadata": {
    "_cell_guid": "302ea97c-4486-4545-b7f9-f1b8cd21d9f1",
    "_uuid": "83044c92-da29-47f3-91a9-3e1ccf62983c",
    "collapsed": false,
    "execution": {
     "iopub.execute_input": "2022-08-04T09:55:16.257128Z",
     "iopub.status.busy": "2022-08-04T09:55:16.256368Z",
     "iopub.status.idle": "2022-08-04T09:55:16.555341Z",
     "shell.execute_reply": "2022-08-04T09:55:16.554729Z",
     "shell.execute_reply.started": "2022-08-04T09:49:35.462484Z"
    },
    "jupyter": {
     "outputs_hidden": false
    },
    "papermill": {
     "duration": 0.386442,
     "end_time": "2022-08-04T09:55:16.555548",
     "exception": false,
     "start_time": "2022-08-04T09:55:16.169106",
     "status": "completed"
    },
    "tags": []
   },
   "outputs": [
    {
     "data": {
      "text/plain": [
       "<AxesSubplot:xlabel='age'>"
      ]
     },
     "execution_count": 25,
     "metadata": {},
     "output_type": "execute_result"
    },
    {
     "data": {
      "image/png": "[encoded data removed]",
      "text/plain": [
       "<Figure size 432x288 with 1 Axes>"
      ]
     },
     "metadata": {},
     "output_type": "display_data"
    }
   ],
   "source": [
    "# Calculate the min by group age and diagnosis\n",
    "df.groupby('age')['diagnosis'].min().nlargest(10).plot.bar()"
   ]
  },
  {
   "cell_type": "code",
   "execution_count": 26,
   "id": "94e70f35",
   "metadata": {
    "_cell_guid": "06631a74-ba15-4738-a52c-a1c26d4f183b",
    "_uuid": "d40dcc25-d76f-410c-ae28-bad945f7cdab",
    "collapsed": false,
    "execution": {
     "iopub.execute_input": "2022-08-04T09:55:16.757209Z",
     "iopub.status.busy": "2022-08-04T09:55:16.756238Z",
     "iopub.status.idle": "2022-08-04T09:55:17.191038Z",
     "shell.execute_reply": "2022-08-04T09:55:17.190287Z",
     "shell.execute_reply.started": "2022-08-04T09:49:35.707843Z"
    },
    "jupyter": {
     "outputs_hidden": false
    },
    "papermill": {
     "duration": 0.551146,
     "end_time": "2022-08-04T09:55:17.191254",
     "exception": false,
     "start_time": "2022-08-04T09:55:16.640108",
     "status": "completed"
    },
    "tags": []
   },
   "outputs": [
    {
     "data": {
      "text/plain": [
       "<AxesSubplot:>"
      ]
     },
     "execution_count": 26,
     "metadata": {},
     "output_type": "execute_result"
    },
    {
     "data": {
      "image/png": "[encoded data removed]",
      "text/plain": [
       "<Figure size 432x288 with 1 Axes>"
      ]
     },
     "metadata": {},
     "output_type": "display_data"
    }
   ],
   "source": [
    "df.sort_values(by='age').tail(5).plot.bar()"
   ]
  },
  {
   "cell_type": "code",
   "execution_count": 27,
   "id": "196d8ea1",
   "metadata": {
    "_cell_guid": "2ecb71b3-b4cd-435a-8a4e-20331b24ab31",
    "_uuid": "b254c915-7e5d-4ea4-b93b-c375ae24653a",
    "collapsed": false,
    "execution": {
     "iopub.execute_input": "2022-08-04T09:55:17.363954Z",
     "iopub.status.busy": "2022-08-04T09:55:17.363010Z",
     "iopub.status.idle": "2022-08-04T09:55:18.790803Z",
     "shell.execute_reply": "2022-08-04T09:55:18.790219Z",
     "shell.execute_reply.started": "2022-08-04T09:49:36.052204Z"
    },
    "jupyter": {
     "outputs_hidden": false
    },
    "papermill": {
     "duration": 1.514239,
     "end_time": "2022-08-04T09:55:18.791012",
     "exception": false,
     "start_time": "2022-08-04T09:55:17.276773",
     "status": "completed"
    },
    "tags": []
   },
   "outputs": [
    {
     "data": {
      "text/html": [
       "        <script type=\"text/javascript\">\n",
       "        window.PlotlyConfig = {MathJaxConfig: 'local'};\n",
       "        if (window.MathJax) {MathJax.Hub.Config({SVG: {font: \"STIX-Web\"}});}\n",
       "        if (typeof require !== 'undefined') {\n",
       "        require.undef(\"plotly\");\n",
       "        requirejs.config({\n",
       "            paths: {\n",
       "                'plotly': ['https://cdn.plot.ly/plotly-2.9.0.min']\n",
       "            }\n",
       "        });\n",
       "        require(['plotly'], function(Plotly) {\n",
       "            window._Plotly = Plotly;\n",
       "        });\n",
       "        }\n",
       "        </script>\n",
       "        "
      ]
     },
     "metadata": {},
     "output_type": "display_data"
    },
    {
     "data": {
      "text/html": [
       "<div>                            <div id=\"55041311-a939-448e-a171-e0a14392e20f\" class=\"plotly-graph-div\" style=\"height:525px; width:100%;\"></div>            <script type=\"text/javascript\">                require([\"plotly\"], function(Plotly) {                    window.PLOTLYENV=window.PLOTLYENV || {};                                    if (document.getElementById(\"55041311-a939-448e-a171-e0a14392e20f\")) {                    Plotly.newPlot(                        \"55041311-a939-448e-a171-e0a14392e20f\",                        [{\"hovertemplate\":\"age=%{x}<br>sex=%{y}<br>diagnosis=%{marker.color}<extra></extra>\",\"legendgroup\":\"\",\"marker\":{\"color\":[1,1,1,1,1,1,1,1,1,1,1,1,1,1,1,1,1,1,1,1,1,1,1,1,1,1,1,1,1,1,1,1,1,1,1,1,1,1,1,1,1,1,1,1,1,1,1,1,1,1,1,1,1,1,1,1,1,1,1,1,1,1,1,1,1,1,1,1,1,1,1,1,1,1,1,1,1,1,1,1,1,1,1,1,1,1,1,1,1,1,1,1,1,1,1,1,1,1,1,1,1,1,1,1,1,1,1,1,1,1,1,1,1,1,1,1,1,1,1,1,1,1,1,1,1,1,1,1,1,1,1,1,1,1,1,1,1,1,1,1,1,1,1,1,1,1,1,1,1,1,1,1,1,1,1,1,1,1,1,1,1,1,1,1,1,1,1,1,1,1,1,1,1,1,1,1,1,1,1,1,1,1,1,2,2,2,2,2,2,2,2,2,2,2,2,2,2,2,2,2,2,2,2,2,2,2,2,2,2,2,2,2,2,2,2,2,2,2,2,2,2,2,2,2,2,2,2,2,2,2,2,2,2,2,2,2,2,2,2,2,2,2,2,2,2,2,2,2,2,2,2,2,2,2,2,2,2,2,2,2,2,2,2,2,2,2,2,2,2,2,2,2,2,2,2,2,2,2,2,2,2,2,2,2,2,2,2,2,2,2,2,2,2,2,2,2,2,2,2,2,2,2,2,2,2,2,2,2,2,2,2,2,2,2,2,2,2,2,2,2,2,2,2,2,2,2,2,2,2,2,2,2,2,2,2,2,2,2,2,2,2,2,2,2,2,2,2,2,2,2,2,2,2,2,2,2,2,2,2,2,2,2,2,2,2,2,2,2,2,2,2,2,2,2,2,2,2,2,2,2,2,2,2,2,2,2,2,2,2,2,2,3,3,3,3,3,3,3,3,3,3,3,3,3,3,3,3,3,3,3,3,3,3,3,3,3,3,3,3,3,3,3,3,3,3,3,3,3,3,3,3,3,3,3,3,3,3,3,3,3,3,3,3,3,3,3,3,3,3,3,3,3,3,3,3,3,3,3,3,3,3,3,3,3,3,3,3,3,3,3,3,3,3,3,3,3,3,3,3,3,3,3,3,3,3,3,3,3,3,3,3,3,3,3,3,3,3,3,3,3,3,3,3,3,3,3,3,3,3,3,3,3,3,3,3,3,3,3,3,3,3,3,3,3,3,3,3,3,3,3,3,3,3,3,3,3,3,3,3,3,3,3,3,3,3,3,3,3,3,3,3,3,3,3,3,3,3,3,3,3,3,3,3,3,3,3,3,3,3,3,3,3,3,3,3,3,3,3,3,3,3,3,3,3,3,3,3,3,3,3],\"coloraxis\":\"coloraxis\",\"symbol\":\"circle\"},\"mode\":\"markers\",\"name\":\"\",\"orientation\":\"h\",\"showlegend\":false,\"x\":[33,81,51,61,62,53,70,58,59,56,77,71,49,53,56,60,69,60,55,28,54,50,40,74,63,50,47,45,35,30,48,44,44,56,58,44,48,48,41,45,45,45,48,89,87,50,66,59,59,36,70,63,63,59,67,49,87,47,60,60,73,83,60,44,55,51,56,60,65,45,64,26,34,45,51,67,64,50,49,63,81,71,71,35,57,64,40,46,61,58,71,38,50,84,63,69,74,64,68,50,56,50,51,44,74,49,49,58,49,55,50,46,61,48,58,47,51,37,57,46,62,64,49,52,57,61,40,58,78,53,56,56,54,62,61,67,40,56,47,73,55,62,43,76,48,41,62,71,54,52,56,57,58,58,62,69,28,30,41,43,30,61,58,50,55,59,66,62,72,63,65,68,57,59,53,73,54,63,66,65,69,62,76,32,59,65,39,65,59,52,61,55,74,71,52,37,41,60,46,29,60,26,52,78,28,50,38,68,36,54,73,82,68,72,54,53,62,36,31,68,54,43,56,75,55,41,40,46,37,41,62,40,49,68,69,65,66,63,48,41,38,65,49,75,52,53,53,40,77,70,79,39,38,31,73,59,44,67,55,37,42,38,71,50,35,39,48,66,51,42,50,70,31,68,64,64,60,67,44,53,49,72,57,66,47,70,40,53,73,44,52,45,64,52,29,46,46,42,45,40,40,48,57,69,57,47,62,42,41,57,51,65,67,78,61,54,68,54,54,58,66,55,48,66,69,55,56,58,67,47,54,43,53,30,48,71,53,36,60,70,80,74,45,43,50,68,82,75,61,67,32,46,71,42,56,46,52,80,70,40,29,58,48,66,74,41,53,38,29,55,58,77,67,47,50,44,66,52,72,59,76,40,47,64,46,75,49,53,74,69,63,81,57,55,58,73,75,68,77,56,67,75,74,77,63,60,52,69,53,82,54,66,81,55,68,67,75,64,64,55,56,72,48,73,71,73,62,69,66,74,77,77,61,58,69,61,77,62,45,67,68,71,75,63,71,73,54,59,61,74,73,78,70,82,58,62,76,79,68,70,62,73,72,79,78,59,66,80,63,44,76,70,60,77,79,71,77,67,58,73,68,70,52,67,53,61,66,66,57,82,88,67,49,72,66,55,65,72,76,60,57,65,78,69,68,58,68,70,62,51,69,67,67,50,77,83,59,76,56,39,63,39,70,68,78,73,75,83,54,60,66,64,57,64,61,67,68,71,78,82,62,64,51,86,56,59,64,75,60,51,65,68,48,68,60,56,50,47,29,53,63,75,72,75,73,53,80,42,47,44,58,87,78,85,81,78,65,70,78,78,46,61,58,84,66,68,71,63,75,74],\"xaxis\":\"x\",\"y\":[\"F\",\"F\",\"M\",\"M\",\"M\",\"M\",\"M\",\"F\",\"F\",\"F\",\"F\",\"M\",\"F\",\"M\",\"F\",\"F\",\"F\",\"F\",\"M\",\"F\",\"F\",\"F\",\"M\",\"F\",\"M\",\"M\",\"M\",\"M\",\"M\",\"M\",\"F\",\"F\",\"F\",\"F\",\"F\",\"F\",\"F\",\"F\",\"F\",\"F\",\"F\",\"F\",\"F\",\"F\",\"M\",\"F\",\"F\",\"M\",\"M\",\"F\",\"F\",\"F\",\"F\",\"M\",\"F\",\"M\",\"F\",\"M\",\"F\",\"F\",\"F\",\"F\",\"F\",\"F\",\"F\",\"F\",\"F\",\"M\",\"F\",\"M\",\"F\",\"F\",\"F\",\"F\",\"F\",\"F\",\"F\",\"F\",\"M\",\"F\",\"F\",\"M\",\"F\",\"F\",\"F\",\"M\",\"M\",\"M\",\"F\",\"F\",\"F\",\"F\",\"M\",\"F\",\"F\",\"F\",\"F\",\"M\",\"F\",\"F\",\"F\",\"F\",\"M\",\"F\",\"M\",\"M\",\"F\",\"F\",\"M\",\"M\",\"M\",\"M\",\"F\",\"F\",\"M\",\"M\",\"M\",\"M\",\"M\",\"M\",\"M\",\"M\",\"M\",\"M\",\"F\",\"F\",\"M\",\"F\",\"M\",\"M\",\"M\",\"M\",\"M\",\"M\",\"M\",\"F\",\"F\",\"F\",\"M\",\"F\",\"M\",\"F\",\"F\",\"F\",\"F\",\"F\",\"F\",\"M\",\"F\",\"F\",\"F\",\"M\",\"F\",\"F\",\"F\",\"F\",\"F\",\"F\",\"F\",\"M\",\"F\",\"M\",\"M\",\"M\",\"M\",\"F\",\"F\",\"F\",\"F\",\"M\",\"M\",\"F\",\"M\",\"M\",\"F\",\"F\",\"F\",\"F\",\"F\",\"F\",\"F\",\"F\",\"F\",\"F\",\"F\",\"F\",\"F\",\"F\",\"M\",\"M\",\"F\",\"F\",\"F\",\"F\",\"F\",\"F\",\"F\",\"F\",\"M\",\"F\",\"F\",\"F\",\"F\",\"M\",\"F\",\"F\",\"F\",\"M\",\"F\",\"M\",\"M\",\"F\",\"F\",\"F\",\"F\",\"M\",\"M\",\"F\",\"M\",\"M\",\"M\",\"F\",\"F\",\"M\",\"F\",\"M\",\"F\",\"F\",\"F\",\"M\",\"M\",\"M\",\"F\",\"M\",\"F\",\"M\",\"F\",\"M\",\"M\",\"M\",\"F\",\"F\",\"F\",\"M\",\"F\",\"F\",\"M\",\"M\",\"F\",\"F\",\"M\",\"F\",\"F\",\"M\",\"F\",\"M\",\"M\",\"M\",\"M\",\"F\",\"M\",\"M\",\"M\",\"F\",\"M\",\"F\",\"F\",\"M\",\"F\",\"M\",\"M\",\"F\",\"M\",\"F\",\"M\",\"M\",\"F\",\"M\",\"M\",\"F\",\"F\",\"M\",\"F\",\"M\",\"M\",\"M\",\"F\",\"F\",\"M\",\"M\",\"F\",\"M\",\"F\",\"F\",\"F\",\"F\",\"M\",\"M\",\"M\",\"F\",\"M\",\"M\",\"F\",\"M\",\"M\",\"M\",\"M\",\"M\",\"M\",\"M\",\"M\",\"M\",\"M\",\"M\",\"F\",\"M\",\"F\",\"F\",\"M\",\"M\",\"M\",\"M\",\"M\",\"M\",\"F\",\"F\",\"M\",\"M\",\"F\",\"M\",\"F\",\"M\",\"F\",\"F\",\"F\",\"M\",\"M\",\"F\",\"M\",\"F\",\"M\",\"F\",\"F\",\"M\",\"M\",\"M\",\"M\",\"M\",\"M\",\"M\",\"M\",\"M\",\"M\",\"M\",\"M\",\"M\",\"F\",\"M\",\"M\",\"M\",\"M\",\"M\",\"M\",\"F\",\"F\",\"F\",\"M\",\"F\",\"M\",\"M\",\"F\",\"F\",\"F\",\"F\",\"F\",\"F\",\"M\",\"M\",\"M\",\"F\",\"F\",\"F\",\"F\",\"F\",\"F\",\"F\",\"F\",\"F\",\"F\",\"M\",\"F\",\"F\",\"M\",\"M\",\"M\",\"M\",\"M\",\"F\",\"F\",\"M\",\"M\",\"M\",\"F\",\"M\",\"F\",\"F\",\"F\",\"F\",\"M\",\"F\",\"M\",\"M\",\"F\",\"M\",\"M\",\"M\",\"F\",\"F\",\"F\",\"M\",\"F\",\"M\",\"M\",\"F\",\"F\",\"M\",\"F\",\"M\",\"M\",\"F\",\"M\",\"M\",\"M\",\"F\",\"F\",\"F\",\"M\",\"M\",\"F\",\"F\",\"M\",\"M\",\"F\",\"F\",\"M\",\"M\",\"F\",\"F\",\"F\",\"F\",\"F\",\"F\",\"M\",\"F\",\"M\",\"M\",\"F\",\"F\",\"M\",\"M\",\"F\",\"M\",\"M\",\"M\",\"M\",\"M\",\"M\",\"M\",\"M\",\"M\",\"M\",\"F\",\"F\",\"F\",\"F\",\"M\",\"F\",\"M\",\"M\",\"F\",\"F\",\"F\",\"F\",\"F\",\"F\",\"M\",\"M\",\"F\",\"M\",\"M\",\"F\",\"F\",\"M\",\"M\",\"F\",\"M\",\"F\",\"F\",\"M\",\"M\",\"M\",\"F\",\"F\",\"F\",\"F\",\"M\",\"M\",\"M\",\"M\",\"M\",\"F\",\"M\",\"F\",\"M\",\"F\",\"M\",\"M\",\"F\",\"M\",\"M\",\"M\",\"M\",\"M\",\"M\",\"M\",\"F\",\"F\",\"M\",\"F\",\"M\",\"M\",\"F\",\"M\",\"M\",\"M\",\"M\",\"M\",\"M\",\"M\",\"M\",\"M\",\"M\",\"M\",\"M\",\"F\",\"M\",\"F\",\"M\",\"F\",\"M\",\"M\",\"F\",\"F\",\"M\",\"M\",\"M\",\"M\",\"M\",\"M\",\"M\",\"F\",\"M\",\"F\",\"F\",\"M\",\"F\",\"F\",\"F\",\"F\",\"F\",\"M\",\"M\",\"M\",\"M\",\"M\",\"F\",\"M\",\"M\",\"M\",\"F\",\"M\",\"F\",\"F\",\"M\",\"M\",\"M\",\"F\",\"M\",\"F\",\"M\"],\"yaxis\":\"y\",\"type\":\"scatter\"},{\"alignmentgroup\":\"True\",\"hovertemplate\":\"age=%{x}<extra></extra>\",\"legendgroup\":\"\",\"marker\":{\"color\":\"#0d0887\",\"symbol\":\"circle\"},\"name\":\"\",\"notched\":true,\"offsetgroup\":\"\",\"showlegend\":false,\"x\":[33,81,51,61,62,53,70,58,59,56,77,71,49,53,56,60,69,60,55,28,54,50,40,74,63,50,47,45,35,30,48,44,44,56,58,44,48,48,41,45,45,45,48,89,87,50,66,59,59,36,70,63,63,59,67,49,87,47,60,60,73,83,60,44,55,51,56,60,65,45,64,26,34,45,51,67,64,50,49,63,81,71,71,35,57,64,40,46,61,58,71,38,50,84,63,69,74,64,68,50,56,50,51,44,74,49,49,58,49,55,50,46,61,48,58,47,51,37,57,46,62,64,49,52,57,61,40,58,78,53,56,56,54,62,61,67,40,56,47,73,55,62,43,76,48,41,62,71,54,52,56,57,58,58,62,69,28,30,41,43,30,61,58,50,55,59,66,62,72,63,65,68,57,59,53,73,54,63,66,65,69,62,76,32,59,65,39,65,59,52,61,55,74,71,52,37,41,60,46,29,60,26,52,78,28,50,38,68,36,54,73,82,68,72,54,53,62,36,31,68,54,43,56,75,55,41,40,46,37,41,62,40,49,68,69,65,66,63,48,41,38,65,49,75,52,53,53,40,77,70,79,39,38,31,73,59,44,67,55,37,42,38,71,50,35,39,48,66,51,42,50,70,31,68,64,64,60,67,44,53,49,72,57,66,47,70,40,53,73,44,52,45,64,52,29,46,46,42,45,40,40,48,57,69,57,47,62,42,41,57,51,65,67,78,61,54,68,54,54,58,66,55,48,66,69,55,56,58,67,47,54,43,53,30,48,71,53,36,60,70,80,74,45,43,50,68,82,75,61,67,32,46,71,42,56,46,52,80,70,40,29,58,48,66,74,41,53,38,29,55,58,77,67,47,50,44,66,52,72,59,76,40,47,64,46,75,49,53,74,69,63,81,57,55,58,73,75,68,77,56,67,75,74,77,63,60,52,69,53,82,54,66,81,55,68,67,75,64,64,55,56,72,48,73,71,73,62,69,66,74,77,77,61,58,69,61,77,62,45,67,68,71,75,63,71,73,54,59,61,74,73,78,70,82,58,62,76,79,68,70,62,73,72,79,78,59,66,80,63,44,76,70,60,77,79,71,77,67,58,73,68,70,52,67,53,61,66,66,57,82,88,67,49,72,66,55,65,72,76,60,57,65,78,69,68,58,68,70,62,51,69,67,67,50,77,83,59,76,56,39,63,39,70,68,78,73,75,83,54,60,66,64,57,64,61,67,68,71,78,82,62,64,51,86,56,59,64,75,60,51,65,68,48,68,60,56,50,47,29,53,63,75,72,75,73,53,80,42,47,44,58,87,78,85,81,78,65,70,78,78,46,61,58,84,66,68,71,63,75,74],\"xaxis\":\"x3\",\"yaxis\":\"y3\",\"type\":\"box\"},{\"alignmentgroup\":\"True\",\"hovertemplate\":\"sex=%{y}<extra></extra>\",\"legendgroup\":\"\",\"marker\":{\"color\":\"#0d0887\",\"symbol\":\"circle\"},\"name\":\"\",\"offsetgroup\":\"\",\"scalegroup\":\"y\",\"showlegend\":false,\"xaxis\":\"x2\",\"y\":[\"F\",\"F\",\"M\",\"M\",\"M\",\"M\",\"M\",\"F\",\"F\",\"F\",\"F\",\"M\",\"F\",\"M\",\"F\",\"F\",\"F\",\"F\",\"M\",\"F\",\"F\",\"F\",\"M\",\"F\",\"M\",\"M\",\"M\",\"M\",\"M\",\"M\",\"F\",\"F\",\"F\",\"F\",\"F\",\"F\",\"F\",\"F\",\"F\",\"F\",\"F\",\"F\",\"F\",\"F\",\"M\",\"F\",\"F\",\"M\",\"M\",\"F\",\"F\",\"F\",\"F\",\"M\",\"F\",\"M\",\"F\",\"M\",\"F\",\"F\",\"F\",\"F\",\"F\",\"F\",\"F\",\"F\",\"F\",\"M\",\"F\",\"M\",\"F\",\"F\",\"F\",\"F\",\"F\",\"F\",\"F\",\"F\",\"M\",\"F\",\"F\",\"M\",\"F\",\"F\",\"F\",\"M\",\"M\",\"M\",\"F\",\"F\",\"F\",\"F\",\"M\",\"F\",\"F\",\"F\",\"F\",\"M\",\"F\",\"F\",\"F\",\"F\",\"M\",\"F\",\"M\",\"M\",\"F\",\"F\",\"M\",\"M\",\"M\",\"M\",\"F\",\"F\",\"M\",\"M\",\"M\",\"M\",\"M\",\"M\",\"M\",\"M\",\"M\",\"M\",\"F\",\"F\",\"M\",\"F\",\"M\",\"M\",\"M\",\"M\",\"M\",\"M\",\"M\",\"F\",\"F\",\"F\",\"M\",\"F\",\"M\",\"F\",\"F\",\"F\",\"F\",\"F\",\"F\",\"M\",\"F\",\"F\",\"F\",\"M\",\"F\",\"F\",\"F\",\"F\",\"F\",\"F\",\"F\",\"M\",\"F\",\"M\",\"M\",\"M\",\"M\",\"F\",\"F\",\"F\",\"F\",\"M\",\"M\",\"F\",\"M\",\"M\",\"F\",\"F\",\"F\",\"F\",\"F\",\"F\",\"F\",\"F\",\"F\",\"F\",\"F\",\"F\",\"F\",\"F\",\"M\",\"M\",\"F\",\"F\",\"F\",\"F\",\"F\",\"F\",\"F\",\"F\",\"M\",\"F\",\"F\",\"F\",\"F\",\"M\",\"F\",\"F\",\"F\",\"M\",\"F\",\"M\",\"M\",\"F\",\"F\",\"F\",\"F\",\"M\",\"M\",\"F\",\"M\",\"M\",\"M\",\"F\",\"F\",\"M\",\"F\",\"M\",\"F\",\"F\",\"F\",\"M\",\"M\",\"M\",\"F\",\"M\",\"F\",\"M\",\"F\",\"M\",\"M\",\"M\",\"F\",\"F\",\"F\",\"M\",\"F\",\"F\",\"M\",\"M\",\"F\",\"F\",\"M\",\"F\",\"F\",\"M\",\"F\",\"M\",\"M\",\"M\",\"M\",\"F\",\"M\",\"M\",\"M\",\"F\",\"M\",\"F\",\"F\",\"M\",\"F\",\"M\",\"M\",\"F\",\"M\",\"F\",\"M\",\"M\",\"F\",\"M\",\"M\",\"F\",\"F\",\"M\",\"F\",\"M\",\"M\",\"M\",\"F\",\"F\",\"M\",\"M\",\"F\",\"M\",\"F\",\"F\",\"F\",\"F\",\"M\",\"M\",\"M\",\"F\",\"M\",\"M\",\"F\",\"M\",\"M\",\"M\",\"M\",\"M\",\"M\",\"M\",\"M\",\"M\",\"M\",\"M\",\"F\",\"M\",\"F\",\"F\",\"M\",\"M\",\"M\",\"M\",\"M\",\"M\",\"F\",\"F\",\"M\",\"M\",\"F\",\"M\",\"F\",\"M\",\"F\",\"F\",\"F\",\"M\",\"M\",\"F\",\"M\",\"F\",\"M\",\"F\",\"F\",\"M\",\"M\",\"M\",\"M\",\"M\",\"M\",\"M\",\"M\",\"M\",\"M\",\"M\",\"M\",\"M\",\"F\",\"M\",\"M\",\"M\",\"M\",\"M\",\"M\",\"F\",\"F\",\"F\",\"M\",\"F\",\"M\",\"M\",\"F\",\"F\",\"F\",\"F\",\"F\",\"F\",\"M\",\"M\",\"M\",\"F\",\"F\",\"F\",\"F\",\"F\",\"F\",\"F\",\"F\",\"F\",\"F\",\"M\",\"F\",\"F\",\"M\",\"M\",\"M\",\"M\",\"M\",\"F\",\"F\",\"M\",\"M\",\"M\",\"F\",\"M\",\"F\",\"F\",\"F\",\"F\",\"M\",\"F\",\"M\",\"M\",\"F\",\"M\",\"M\",\"M\",\"F\",\"F\",\"F\",\"M\",\"F\",\"M\",\"M\",\"F\",\"F\",\"M\",\"F\",\"M\",\"M\",\"F\",\"M\",\"M\",\"M\",\"F\",\"F\",\"F\",\"M\",\"M\",\"F\",\"F\",\"M\",\"M\",\"F\",\"F\",\"M\",\"M\",\"F\",\"F\",\"F\",\"F\",\"F\",\"F\",\"M\",\"F\",\"M\",\"M\",\"F\",\"F\",\"M\",\"M\",\"F\",\"M\",\"M\",\"M\",\"M\",\"M\",\"M\",\"M\",\"M\",\"M\",\"M\",\"F\",\"F\",\"F\",\"F\",\"M\",\"F\",\"M\",\"M\",\"F\",\"F\",\"F\",\"F\",\"F\",\"F\",\"M\",\"M\",\"F\",\"M\",\"M\",\"F\",\"F\",\"M\",\"M\",\"F\",\"M\",\"F\",\"F\",\"M\",\"M\",\"M\",\"F\",\"F\",\"F\",\"F\",\"M\",\"M\",\"M\",\"M\",\"M\",\"F\",\"M\",\"F\",\"M\",\"F\",\"M\",\"M\",\"F\",\"M\",\"M\",\"M\",\"M\",\"M\",\"M\",\"M\",\"F\",\"F\",\"M\",\"F\",\"M\",\"M\",\"F\",\"M\",\"M\",\"M\",\"M\",\"M\",\"M\",\"M\",\"M\",\"M\",\"M\",\"M\",\"M\",\"F\",\"M\",\"F\",\"M\",\"F\",\"M\",\"M\",\"F\",\"F\",\"M\",\"M\",\"M\",\"M\",\"M\",\"M\",\"M\",\"F\",\"M\",\"F\",\"F\",\"M\",\"F\",\"F\",\"F\",\"F\",\"F\",\"M\",\"M\",\"M\",\"M\",\"M\",\"F\",\"M\",\"M\",\"M\",\"F\",\"M\",\"F\",\"F\",\"M\",\"M\",\"M\",\"F\",\"M\",\"F\",\"M\"],\"yaxis\":\"y2\",\"type\":\"violin\"}],                        {\"template\":{\"data\":{\"bar\":[{\"error_x\":{\"color\":\"#2a3f5f\"},\"error_y\":{\"color\":\"#2a3f5f\"},\"marker\":{\"line\":{\"color\":\"#E5ECF6\",\"width\":0.5},\"pattern\":{\"fillmode\":\"overlay\",\"size\":10,\"solidity\":0.2}},\"type\":\"bar\"}],\"barpolar\":[{\"marker\":{\"line\":{\"color\":\"#E5ECF6\",\"width\":0.5},\"pattern\":{\"fillmode\":\"overlay\",\"size\":10,\"solidity\":0.2}},\"type\":\"barpolar\"}],\"carpet\":[{\"aaxis\":{\"endlinecolor\":\"#2a3f5f\",\"gridcolor\":\"white\",\"linecolor\":\"white\",\"minorgridcolor\":\"white\",\"startlinecolor\":\"#2a3f5f\"},\"baxis\":{\"endlinecolor\":\"#2a3f5f\",\"gridcolor\":\"white\",\"linecolor\":\"white\",\"minorgridcolor\":\"white\",\"startlinecolor\":\"#2a3f5f\"},\"type\":\"carpet\"}],\"choropleth\":[{\"colorbar\":{\"outlinewidth\":0,\"ticks\":\"\"},\"type\":\"choropleth\"}],\"contour\":[{\"colorbar\":{\"outlinewidth\":0,\"ticks\":\"\"},\"colorscale\":[[0.0,\"#0d0887\"],[0.1111111111111111,\"#46039f\"],[0.2222222222222222,\"#7201a8\"],[0.3333333333333333,\"#9c179e\"],[0.4444444444444444,\"#bd3786\"],[0.5555555555555556,\"#d8576b\"],[0.6666666666666666,\"#ed7953\"],[0.7777777777777778,\"#fb9f3a\"],[0.8888888888888888,\"#fdca26\"],[1.0,\"#f0f921\"]],\"type\":\"contour\"}],\"contourcarpet\":[{\"colorbar\":{\"outlinewidth\":0,\"ticks\":\"\"},\"type\":\"contourcarpet\"}],\"heatmap\":[{\"colorbar\":{\"outlinewidth\":0,\"ticks\":\"\"},\"colorscale\":[[0.0,\"#0d0887\"],[0.1111111111111111,\"#46039f\"],[0.2222222222222222,\"#7201a8\"],[0.3333333333333333,\"#9c179e\"],[0.4444444444444444,\"#bd3786\"],[0.5555555555555556,\"#d8576b\"],[0.6666666666666666,\"#ed7953\"],[0.7777777777777778,\"#fb9f3a\"],[0.8888888888888888,\"#fdca26\"],[1.0,\"#f0f921\"]],\"type\":\"heatmap\"}],\"heatmapgl\":[{\"colorbar\":{\"outlinewidth\":0,\"ticks\":\"\"},\"colorscale\":[[0.0,\"#0d0887\"],[0.1111111111111111,\"#46039f\"],[0.2222222222222222,\"#7201a8\"],[0.3333333333333333,\"#9c179e\"],[0.4444444444444444,\"#bd3786\"],[0.5555555555555556,\"#d8576b\"],[0.6666666666666666,\"#ed7953\"],[0.7777777777777778,\"#fb9f3a\"],[0.8888888888888888,\"#fdca26\"],[1.0,\"#f0f921\"]],\"type\":\"heatmapgl\"}],\"histogram\":[{\"marker\":{\"pattern\":{\"fillmode\":\"overlay\",\"size\":10,\"solidity\":0.2}},\"type\":\"histogram\"}],\"histogram2d\":[{\"colorbar\":{\"outlinewidth\":0,\"ticks\":\"\"},\"colorscale\":[[0.0,\"#0d0887\"],[0.1111111111111111,\"#46039f\"],[0.2222222222222222,\"#7201a8\"],[0.3333333333333333,\"#9c179e\"],[0.4444444444444444,\"#bd3786\"],[0.5555555555555556,\"#d8576b\"],[0.6666666666666666,\"#ed7953\"],[0.7777777777777778,\"#fb9f3a\"],[0.8888888888888888,\"#fdca26\"],[1.0,\"#f0f921\"]],\"type\":\"histogram2d\"}],\"histogram2dcontour\":[{\"colorbar\":{\"outlinewidth\":0,\"ticks\":\"\"},\"colorscale\":[[0.0,\"#0d0887\"],[0.1111111111111111,\"#46039f\"],[0.2222222222222222,\"#7201a8\"],[0.3333333333333333,\"#9c179e\"],[0.4444444444444444,\"#bd3786\"],[0.5555555555555556,\"#d8576b\"],[0.6666666666666666,\"#ed7953\"],[0.7777777777777778,\"#fb9f3a\"],[0.8888888888888888,\"#fdca26\"],[1.0,\"#f0f921\"]],\"type\":\"histogram2dcontour\"}],\"mesh3d\":[{\"colorbar\":{\"outlinewidth\":0,\"ticks\":\"\"},\"type\":\"mesh3d\"}],\"parcoords\":[{\"line\":{\"colorbar\":{\"outlinewidth\":0,\"ticks\":\"\"}},\"type\":\"parcoords\"}],\"pie\":[{\"automargin\":true,\"type\":\"pie\"}],\"scatter\":[{\"marker\":{\"colorbar\":{\"outlinewidth\":0,\"ticks\":\"\"}},\"type\":\"scatter\"}],\"scatter3d\":[{\"line\":{\"colorbar\":{\"outlinewidth\":0,\"ticks\":\"\"}},\"marker\":{\"colorbar\":{\"outlinewidth\":0,\"ticks\":\"\"}},\"type\":\"scatter3d\"}],\"scattercarpet\":[{\"marker\":{\"colorbar\":{\"outlinewidth\":0,\"ticks\":\"\"}},\"type\":\"scattercarpet\"}],\"scattergeo\":[{\"marker\":{\"colorbar\":{\"outlinewidth\":0,\"ticks\":\"\"}},\"type\":\"scattergeo\"}],\"scattergl\":[{\"marker\":{\"colorbar\":{\"outlinewidth\":0,\"ticks\":\"\"}},\"type\":\"scattergl\"}],\"scattermapbox\":[{\"marker\":{\"colorbar\":{\"outlinewidth\":0,\"ticks\":\"\"}},\"type\":\"scattermapbox\"}],\"scatterpolar\":[{\"marker\":{\"colorbar\":{\"outlinewidth\":0,\"ticks\":\"\"}},\"type\":\"scatterpolar\"}],\"scatterpolargl\":[{\"marker\":{\"colorbar\":{\"outlinewidth\":0,\"ticks\":\"\"}},\"type\":\"scatterpolargl\"}],\"scatterternary\":[{\"marker\":{\"colorbar\":{\"outlinewidth\":0,\"ticks\":\"\"}},\"type\":\"scatterternary\"}],\"surface\":[{\"colorbar\":{\"outlinewidth\":0,\"ticks\":\"\"},\"colorscale\":[[0.0,\"#0d0887\"],[0.1111111111111111,\"#46039f\"],[0.2222222222222222,\"#7201a8\"],[0.3333333333333333,\"#9c179e\"],[0.4444444444444444,\"#bd3786\"],[0.5555555555555556,\"#d8576b\"],[0.6666666666666666,\"#ed7953\"],[0.7777777777777778,\"#fb9f3a\"],[0.8888888888888888,\"#fdca26\"],[1.0,\"#f0f921\"]],\"type\":\"surface\"}],\"table\":[{\"cells\":{\"fill\":{\"color\":\"#EBF0F8\"},\"line\":{\"color\":\"white\"}},\"header\":{\"fill\":{\"color\":\"#C8D4E3\"},\"line\":{\"color\":\"white\"}},\"type\":\"table\"}]},\"layout\":{\"annotationdefaults\":{\"arrowcolor\":\"#2a3f5f\",\"arrowhead\":0,\"arrowwidth\":1},\"autotypenumbers\":\"strict\",\"coloraxis\":{\"colorbar\":{\"outlinewidth\":0,\"ticks\":\"\"}},\"colorscale\":{\"diverging\":[[0,\"#8e0152\"],[0.1,\"#c51b7d\"],[0.2,\"#de77ae\"],[0.3,\"#f1b6da\"],[0.4,\"#fde0ef\"],[0.5,\"#f7f7f7\"],[0.6,\"#e6f5d0\"],[0.7,\"#b8e186\"],[0.8,\"#7fbc41\"],[0.9,\"#4d9221\"],[1,\"#276419\"]],\"sequential\":[[0.0,\"#0d0887\"],[0.1111111111111111,\"#46039f\"],[0.2222222222222222,\"#7201a8\"],[0.3333333333333333,\"#9c179e\"],[0.4444444444444444,\"#bd3786\"],[0.5555555555555556,\"#d8576b\"],[0.6666666666666666,\"#ed7953\"],[0.7777777777777778,\"#fb9f3a\"],[0.8888888888888888,\"#fdca26\"],[1.0,\"#f0f921\"]],\"sequentialminus\":[[0.0,\"#0d0887\"],[0.1111111111111111,\"#46039f\"],[0.2222222222222222,\"#7201a8\"],[0.3333333333333333,\"#9c179e\"],[0.4444444444444444,\"#bd3786\"],[0.5555555555555556,\"#d8576b\"],[0.6666666666666666,\"#ed7953\"],[0.7777777777777778,\"#fb9f3a\"],[0.8888888888888888,\"#fdca26\"],[1.0,\"#f0f921\"]]},\"colorway\":[\"#636efa\",\"#EF553B\",\"#00cc96\",\"#ab63fa\",\"#FFA15A\",\"#19d3f3\",\"#FF6692\",\"#B6E880\",\"#FF97FF\",\"#FECB52\"],\"font\":{\"color\":\"#2a3f5f\"},\"geo\":{\"bgcolor\":\"white\",\"lakecolor\":\"white\",\"landcolor\":\"#E5ECF6\",\"showlakes\":true,\"showland\":true,\"subunitcolor\":\"white\"},\"hoverlabel\":{\"align\":\"left\"},\"hovermode\":\"closest\",\"mapbox\":{\"style\":\"light\"},\"paper_bgcolor\":\"white\",\"plot_bgcolor\":\"#E5ECF6\",\"polar\":{\"angularaxis\":{\"gridcolor\":\"white\",\"linecolor\":\"white\",\"ticks\":\"\"},\"bgcolor\":\"#E5ECF6\",\"radialaxis\":{\"gridcolor\":\"white\",\"linecolor\":\"white\",\"ticks\":\"\"}},\"scene\":{\"xaxis\":{\"backgroundcolor\":\"#E5ECF6\",\"gridcolor\":\"white\",\"gridwidth\":2,\"linecolor\":\"white\",\"showbackground\":true,\"ticks\":\"\",\"zerolinecolor\":\"white\"},\"yaxis\":{\"backgroundcolor\":\"#E5ECF6\",\"gridcolor\":\"white\",\"gridwidth\":2,\"linecolor\":\"white\",\"showbackground\":true,\"ticks\":\"\",\"zerolinecolor\":\"white\"},\"zaxis\":{\"backgroundcolor\":\"#E5ECF6\",\"gridcolor\":\"white\",\"gridwidth\":2,\"linecolor\":\"white\",\"showbackground\":true,\"ticks\":\"\",\"zerolinecolor\":\"white\"}},\"shapedefaults\":{\"line\":{\"color\":\"#2a3f5f\"}},\"ternary\":{\"aaxis\":{\"gridcolor\":\"white\",\"linecolor\":\"white\",\"ticks\":\"\"},\"baxis\":{\"gridcolor\":\"white\",\"linecolor\":\"white\",\"ticks\":\"\"},\"bgcolor\":\"#E5ECF6\",\"caxis\":{\"gridcolor\":\"white\",\"linecolor\":\"white\",\"ticks\":\"\"}},\"title\":{\"x\":0.05},\"xaxis\":{\"automargin\":true,\"gridcolor\":\"white\",\"linecolor\":\"white\",\"ticks\":\"\",\"title\":{\"standoff\":15},\"zerolinecolor\":\"white\",\"zerolinewidth\":2},\"yaxis\":{\"automargin\":true,\"gridcolor\":\"white\",\"linecolor\":\"white\",\"ticks\":\"\",\"title\":{\"standoff\":15},\"zerolinecolor\":\"white\",\"zerolinewidth\":2}}},\"xaxis\":{\"anchor\":\"y\",\"domain\":[0.0,0.7363],\"title\":{\"text\":\"age\"}},\"yaxis\":{\"anchor\":\"x\",\"domain\":[0.0,0.7326],\"title\":{\"text\":\"sex\"}},\"xaxis2\":{\"anchor\":\"y2\",\"domain\":[0.7413,1.0],\"matches\":\"x2\",\"showticklabels\":false,\"showline\":false,\"ticks\":\"\",\"showgrid\":false},\"yaxis2\":{\"anchor\":\"x2\",\"domain\":[0.0,0.7326],\"matches\":\"y\",\"showticklabels\":false,\"showgrid\":true},\"xaxis3\":{\"anchor\":\"y3\",\"domain\":[0.0,0.7363],\"matches\":\"x\",\"showticklabels\":false,\"showgrid\":true},\"yaxis3\":{\"anchor\":\"x3\",\"domain\":[0.7426,1.0],\"matches\":\"y3\",\"showticklabels\":false,\"showline\":false,\"ticks\":\"\",\"showgrid\":false},\"xaxis4\":{\"anchor\":\"y4\",\"domain\":[0.7413,1.0],\"matches\":\"x2\",\"showticklabels\":false,\"showgrid\":false,\"showline\":false,\"ticks\":\"\"},\"yaxis4\":{\"anchor\":\"x4\",\"domain\":[0.7426,1.0],\"matches\":\"y3\",\"showticklabels\":false,\"showline\":false,\"ticks\":\"\",\"showgrid\":true},\"coloraxis\":{\"colorbar\":{\"title\":{\"text\":\"diagnosis\"}},\"colorscale\":[[0.0,\"#0d0887\"],[0.1111111111111111,\"#46039f\"],[0.2222222222222222,\"#7201a8\"],[0.3333333333333333,\"#9c179e\"],[0.4444444444444444,\"#bd3786\"],[0.5555555555555556,\"#d8576b\"],[0.6666666666666666,\"#ed7953\"],[0.7777777777777778,\"#fb9f3a\"],[0.8888888888888888,\"#fdca26\"],[1.0,\"#f0f921\"]]},\"legend\":{\"tracegroupgap\":0},\"margin\":{\"t\":60}},                        {\"responsive\": true}                    ).then(function(){\n",
       "                            \n",
       "var gd = document.getElementById('55041311-a939-448e-a171-e0a14392e20f');\n",
       "var x = new MutationObserver(function (mutations, observer) {{\n",
       "        var display = window.getComputedStyle(gd).display;\n",
       "        if (!display || display === 'none') {{\n",
       "            console.log([gd, 'removed!']);\n",
       "            Plotly.purge(gd);\n",
       "            observer.disconnect();\n",
       "        }}\n",
       "}});\n",
       "\n",
       "// Listen for the removal of the full notebook cells\n",
       "var notebookContainer = gd.closest('#notebook-container');\n",
       "if (notebookContainer) {{\n",
       "    x.observe(notebookContainer, {childList: true});\n",
       "}}\n",
       "\n",
       "// Listen for the clearing of the current output cell\n",
       "var outputEl = gd.closest('.output');\n",
       "if (outputEl) {{\n",
       "    x.observe(outputEl, {childList: true});\n",
       "}}\n",
       "\n",
       "                        })                };                });            </script>        </div>"
      ]
     },
     "metadata": {},
     "output_type": "display_data"
    }
   ],
   "source": [
    "px.scatter(df, x=\"age\", y=\"sex\", color=\"diagnosis\", marginal_y=\"violin\", marginal_x=\"box\")"
   ]
  },
  {
   "cell_type": "code",
   "execution_count": 28,
   "id": "8ef510a4",
   "metadata": {
    "_cell_guid": "a3f8aa8d-8d88-4c35-b3bf-70d1f8b950c1",
    "_uuid": "f14913d7-f2db-4949-879a-a18a8c2fb145",
    "collapsed": false,
    "execution": {
     "iopub.execute_input": "2022-08-04T09:55:18.961012Z",
     "iopub.status.busy": "2022-08-04T09:55:18.960042Z",
     "iopub.status.idle": "2022-08-04T09:55:19.067245Z",
     "shell.execute_reply": "2022-08-04T09:55:19.066638Z",
     "shell.execute_reply.started": "2022-08-04T09:49:36.191169Z"
    },
    "jupyter": {
     "outputs_hidden": false
    },
    "papermill": {
     "duration": 0.192267,
     "end_time": "2022-08-04T09:55:19.067413",
     "exception": false,
     "start_time": "2022-08-04T09:55:18.875146",
     "status": "completed"
    },
    "tags": []
   },
   "outputs": [
    {
     "data": {
      "text/html": [
       "<div>                            <div id=\"05afad32-aa0c-4b46-8e46-91167ce1bb61\" class=\"plotly-graph-div\" style=\"height:525px; width:100%;\"></div>            <script type=\"text/javascript\">                require([\"plotly\"], function(Plotly) {                    window.PLOTLYENV=window.PLOTLYENV || {};                                    if (document.getElementById(\"05afad32-aa0c-4b46-8e46-91167ce1bb61\")) {                    Plotly.newPlot(                        \"05afad32-aa0c-4b46-8e46-91167ce1bb61\",                        [{\"alignmentgroup\":\"True\",\"bingroup\":\"x\",\"histfunc\":\"sum\",\"hovertemplate\":\"sex=F<br>age=%{x}<br>sum of diagnosis=%{y}<extra></extra>\",\"legendgroup\":\"F\",\"marker\":{\"color\":\"#636efa\",\"pattern\":{\"shape\":\"\"}},\"name\":\"F\",\"offsetgroup\":\"F\",\"orientation\":\"v\",\"showlegend\":true,\"x\":[33,81,58,59,56,77,49,56,60,69,60,28,54,50,74,48,44,44,56,58,44,48,48,41,45,45,45,48,89,50,66,36,70,63,63,67,87,60,60,73,83,60,44,55,51,56,65,64,26,34,45,51,67,64,50,63,81,71,35,57,61,58,71,38,84,63,69,74,68,50,56,50,44,49,58,61,48,57,61,58,67,40,56,73,62,43,76,48,41,62,54,52,56,58,58,62,69,28,30,41,30,59,66,62,72,68,53,73,54,63,66,65,69,62,76,32,59,65,39,65,61,55,74,71,52,37,41,60,29,60,26,52,28,50,38,36,82,68,72,54,36,43,56,55,40,46,37,49,69,66,38,65,49,52,53,77,70,39,38,73,37,50,39,48,51,70,68,60,53,49,57,40,53,52,64,52,29,46,40,57,61,68,54,69,55,67,54,53,30,48,36,70,74,45,52,66,74,41,38,58,77,67,47,50,44,59,76,40,47,64,46,75,49,53,74,63,81,68,77,74,63,60,52,69,82,81,75,64,64,56,73,71,62,74,58,69,61,45,67,75,63,54,59,61,74,73,78,82,76,79,62,70,60,77,79,77,73,68,70,52,67,53,66,88,67,66,65,72,65,78,69,68,69,67,77,76,73,75,54,64,56,64,60,68,48,63,72,75,53,80,42,47,44,78,78,61,58,71,75],\"xaxis\":\"x\",\"y\":[1,1,1,1,1,1,1,1,1,1,1,1,1,1,1,1,1,1,1,1,1,1,1,1,1,1,1,1,1,1,1,1,1,1,1,1,1,1,1,1,1,1,1,1,1,1,1,1,1,1,1,1,1,1,1,1,1,1,1,1,1,1,1,1,1,1,1,1,1,1,1,1,1,1,1,1,1,1,1,1,1,1,1,1,1,1,1,1,1,1,1,1,1,1,1,1,1,1,1,1,1,1,1,1,1,1,1,1,1,1,1,1,1,1,1,2,2,2,2,2,2,2,2,2,2,2,2,2,2,2,2,2,2,2,2,2,2,2,2,2,2,2,2,2,2,2,2,2,2,2,2,2,2,2,2,2,2,2,2,2,2,2,2,2,2,2,2,2,2,2,2,2,2,2,2,2,2,2,2,2,2,2,2,2,2,2,2,2,2,2,2,2,2,2,2,2,2,2,2,2,2,2,2,2,2,2,2,2,2,2,2,2,2,2,2,2,3,3,3,3,3,3,3,3,3,3,3,3,3,3,3,3,3,3,3,3,3,3,3,3,3,3,3,3,3,3,3,3,3,3,3,3,3,3,3,3,3,3,3,3,3,3,3,3,3,3,3,3,3,3,3,3,3,3,3,3,3,3,3,3,3,3,3,3,3,3,3,3,3,3,3,3,3,3,3,3,3,3,3],\"yaxis\":\"y\",\"type\":\"histogram\"},{\"alignmentgroup\":\"True\",\"bingroup\":\"x\",\"histfunc\":\"sum\",\"hovertemplate\":\"sex=M<br>age=%{x}<br>sum of diagnosis=%{y}<extra></extra>\",\"legendgroup\":\"M\",\"marker\":{\"color\":\"#EF553B\",\"pattern\":{\"shape\":\"\"}},\"name\":\"M\",\"offsetgroup\":\"M\",\"orientation\":\"v\",\"showlegend\":true,\"x\":[51,61,62,53,70,71,53,55,40,63,50,47,45,35,30,87,59,59,59,49,47,60,45,49,71,64,40,46,50,64,51,74,49,49,55,50,46,58,47,51,37,57,46,62,64,49,52,40,78,53,56,56,54,62,61,47,55,71,57,43,61,58,50,55,63,65,57,59,59,52,46,78,68,54,73,53,62,31,68,54,75,41,41,62,40,68,65,63,48,41,75,53,40,79,31,59,44,67,55,42,38,71,35,66,42,50,31,64,64,67,44,72,66,47,70,73,44,45,46,42,45,40,48,69,57,47,62,42,41,57,51,65,67,78,54,54,58,66,55,48,66,56,58,47,43,71,53,60,80,43,50,68,82,75,61,67,32,46,71,42,56,46,80,70,40,29,58,48,53,29,55,66,52,72,69,57,55,58,73,75,56,67,75,77,53,54,66,55,68,67,55,72,48,73,69,66,77,77,61,77,62,68,71,71,73,70,58,62,68,70,73,72,79,78,59,66,80,63,44,76,71,67,58,61,66,57,82,49,72,55,76,60,57,58,68,70,62,51,67,50,83,59,56,39,63,39,70,68,78,83,60,66,57,64,61,67,68,71,78,82,62,64,51,86,59,75,51,65,68,60,56,50,47,29,53,75,73,58,87,78,85,81,65,70,78,46,84,66,68,63,74],\"xaxis\":\"x\",\"y\":[1,1,1,1,1,1,1,1,1,1,1,1,1,1,1,1,1,1,1,1,1,1,1,1,1,1,1,1,1,1,1,1,1,1,1,1,1,1,1,1,1,1,1,1,1,1,1,1,1,1,1,1,1,1,1,1,1,1,1,1,1,1,1,1,1,1,1,1,2,2,2,2,2,2,2,2,2,2,2,2,2,2,2,2,2,2,2,2,2,2,2,2,2,2,2,2,2,2,2,2,2,2,2,2,2,2,2,2,2,2,2,2,2,2,2,2,2,2,2,2,2,2,2,2,2,2,2,2,2,2,2,2,2,2,2,2,2,2,2,2,2,2,2,2,2,2,2,2,2,2,2,2,2,2,2,2,2,2,2,2,2,2,2,2,2,2,2,2,2,2,2,2,2,2,2,3,3,3,3,3,3,3,3,3,3,3,3,3,3,3,3,3,3,3,3,3,3,3,3,3,3,3,3,3,3,3,3,3,3,3,3,3,3,3,3,3,3,3,3,3,3,3,3,3,3,3,3,3,3,3,3,3,3,3,3,3,3,3,3,3,3,3,3,3,3,3,3,3,3,3,3,3,3,3,3,3,3,3,3,3,3,3,3,3,3,3,3,3,3,3,3,3,3,3,3,3,3,3,3,3,3,3,3,3,3,3,3,3,3,3,3],\"yaxis\":\"y\",\"type\":\"histogram\"}],                        {\"template\":{\"data\":{\"bar\":[{\"error_x\":{\"color\":\"#2a3f5f\"},\"error_y\":{\"color\":\"#2a3f5f\"},\"marker\":{\"line\":{\"color\":\"#E5ECF6\",\"width\":0.5},\"pattern\":{\"fillmode\":\"overlay\",\"size\":10,\"solidity\":0.2}},\"type\":\"bar\"}],\"barpolar\":[{\"marker\":{\"line\":{\"color\":\"#E5ECF6\",\"width\":0.5},\"pattern\":{\"fillmode\":\"overlay\",\"size\":10,\"solidity\":0.2}},\"type\":\"barpolar\"}],\"carpet\":[{\"aaxis\":{\"endlinecolor\":\"#2a3f5f\",\"gridcolor\":\"white\",\"linecolor\":\"white\",\"minorgridcolor\":\"white\",\"startlinecolor\":\"#2a3f5f\"},\"baxis\":{\"endlinecolor\":\"#2a3f5f\",\"gridcolor\":\"white\",\"linecolor\":\"white\",\"minorgridcolor\":\"white\",\"startlinecolor\":\"#2a3f5f\"},\"type\":\"carpet\"}],\"choropleth\":[{\"colorbar\":{\"outlinewidth\":0,\"ticks\":\"\"},\"type\":\"choropleth\"}],\"contour\":[{\"colorbar\":{\"outlinewidth\":0,\"ticks\":\"\"},\"colorscale\":[[0.0,\"#0d0887\"],[0.1111111111111111,\"#46039f\"],[0.2222222222222222,\"#7201a8\"],[0.3333333333333333,\"#9c179e\"],[0.4444444444444444,\"#bd3786\"],[0.5555555555555556,\"#d8576b\"],[0.6666666666666666,\"#ed7953\"],[0.7777777777777778,\"#fb9f3a\"],[0.8888888888888888,\"#fdca26\"],[1.0,\"#f0f921\"]],\"type\":\"contour\"}],\"contourcarpet\":[{\"colorbar\":{\"outlinewidth\":0,\"ticks\":\"\"},\"type\":\"contourcarpet\"}],\"heatmap\":[{\"colorbar\":{\"outlinewidth\":0,\"ticks\":\"\"},\"colorscale\":[[0.0,\"#0d0887\"],[0.1111111111111111,\"#46039f\"],[0.2222222222222222,\"#7201a8\"],[0.3333333333333333,\"#9c179e\"],[0.4444444444444444,\"#bd3786\"],[0.5555555555555556,\"#d8576b\"],[0.6666666666666666,\"#ed7953\"],[0.7777777777777778,\"#fb9f3a\"],[0.8888888888888888,\"#fdca26\"],[1.0,\"#f0f921\"]],\"type\":\"heatmap\"}],\"heatmapgl\":[{\"colorbar\":{\"outlinewidth\":0,\"ticks\":\"\"},\"colorscale\":[[0.0,\"#0d0887\"],[0.1111111111111111,\"#46039f\"],[0.2222222222222222,\"#7201a8\"],[0.3333333333333333,\"#9c179e\"],[0.4444444444444444,\"#bd3786\"],[0.5555555555555556,\"#d8576b\"],[0.6666666666666666,\"#ed7953\"],[0.7777777777777778,\"#fb9f3a\"],[0.8888888888888888,\"#fdca26\"],[1.0,\"#f0f921\"]],\"type\":\"heatmapgl\"}],\"histogram\":[{\"marker\":{\"pattern\":{\"fillmode\":\"overlay\",\"size\":10,\"solidity\":0.2}},\"type\":\"histogram\"}],\"histogram2d\":[{\"colorbar\":{\"outlinewidth\":0,\"ticks\":\"\"},\"colorscale\":[[0.0,\"#0d0887\"],[0.1111111111111111,\"#46039f\"],[0.2222222222222222,\"#7201a8\"],[0.3333333333333333,\"#9c179e\"],[0.4444444444444444,\"#bd3786\"],[0.5555555555555556,\"#d8576b\"],[0.6666666666666666,\"#ed7953\"],[0.7777777777777778,\"#fb9f3a\"],[0.8888888888888888,\"#fdca26\"],[1.0,\"#f0f921\"]],\"type\":\"histogram2d\"}],\"histogram2dcontour\":[{\"colorbar\":{\"outlinewidth\":0,\"ticks\":\"\"},\"colorscale\":[[0.0,\"#0d0887\"],[0.1111111111111111,\"#46039f\"],[0.2222222222222222,\"#7201a8\"],[0.3333333333333333,\"#9c179e\"],[0.4444444444444444,\"#bd3786\"],[0.5555555555555556,\"#d8576b\"],[0.6666666666666666,\"#ed7953\"],[0.7777777777777778,\"#fb9f3a\"],[0.8888888888888888,\"#fdca26\"],[1.0,\"#f0f921\"]],\"type\":\"histogram2dcontour\"}],\"mesh3d\":[{\"colorbar\":{\"outlinewidth\":0,\"ticks\":\"\"},\"type\":\"mesh3d\"}],\"parcoords\":[{\"line\":{\"colorbar\":{\"outlinewidth\":0,\"ticks\":\"\"}},\"type\":\"parcoords\"}],\"pie\":[{\"automargin\":true,\"type\":\"pie\"}],\"scatter\":[{\"marker\":{\"colorbar\":{\"outlinewidth\":0,\"ticks\":\"\"}},\"type\":\"scatter\"}],\"scatter3d\":[{\"line\":{\"colorbar\":{\"outlinewidth\":0,\"ticks\":\"\"}},\"marker\":{\"colorbar\":{\"outlinewidth\":0,\"ticks\":\"\"}},\"type\":\"scatter3d\"}],\"scattercarpet\":[{\"marker\":{\"colorbar\":{\"outlinewidth\":0,\"ticks\":\"\"}},\"type\":\"scattercarpet\"}],\"scattergeo\":[{\"marker\":{\"colorbar\":{\"outlinewidth\":0,\"ticks\":\"\"}},\"type\":\"scattergeo\"}],\"scattergl\":[{\"marker\":{\"colorbar\":{\"outlinewidth\":0,\"ticks\":\"\"}},\"type\":\"scattergl\"}],\"scattermapbox\":[{\"marker\":{\"colorbar\":{\"outlinewidth\":0,\"ticks\":\"\"}},\"type\":\"scattermapbox\"}],\"scatterpolar\":[{\"marker\":{\"colorbar\":{\"outlinewidth\":0,\"ticks\":\"\"}},\"type\":\"scatterpolar\"}],\"scatterpolargl\":[{\"marker\":{\"colorbar\":{\"outlinewidth\":0,\"ticks\":\"\"}},\"type\":\"scatterpolargl\"}],\"scatterternary\":[{\"marker\":{\"colorbar\":{\"outlinewidth\":0,\"ticks\":\"\"}},\"type\":\"scatterternary\"}],\"surface\":[{\"colorbar\":{\"outlinewidth\":0,\"ticks\":\"\"},\"colorscale\":[[0.0,\"#0d0887\"],[0.1111111111111111,\"#46039f\"],[0.2222222222222222,\"#7201a8\"],[0.3333333333333333,\"#9c179e\"],[0.4444444444444444,\"#bd3786\"],[0.5555555555555556,\"#d8576b\"],[0.6666666666666666,\"#ed7953\"],[0.7777777777777778,\"#fb9f3a\"],[0.8888888888888888,\"#fdca26\"],[1.0,\"#f0f921\"]],\"type\":\"surface\"}],\"table\":[{\"cells\":{\"fill\":{\"color\":\"#EBF0F8\"},\"line\":{\"color\":\"white\"}},\"header\":{\"fill\":{\"color\":\"#C8D4E3\"},\"line\":{\"color\":\"white\"}},\"type\":\"table\"}]},\"layout\":{\"annotationdefaults\":{\"arrowcolor\":\"#2a3f5f\",\"arrowhead\":0,\"arrowwidth\":1},\"autotypenumbers\":\"strict\",\"coloraxis\":{\"colorbar\":{\"outlinewidth\":0,\"ticks\":\"\"}},\"colorscale\":{\"diverging\":[[0,\"#8e0152\"],[0.1,\"#c51b7d\"],[0.2,\"#de77ae\"],[0.3,\"#f1b6da\"],[0.4,\"#fde0ef\"],[0.5,\"#f7f7f7\"],[0.6,\"#e6f5d0\"],[0.7,\"#b8e186\"],[0.8,\"#7fbc41\"],[0.9,\"#4d9221\"],[1,\"#276419\"]],\"sequential\":[[0.0,\"#0d0887\"],[0.1111111111111111,\"#46039f\"],[0.2222222222222222,\"#7201a8\"],[0.3333333333333333,\"#9c179e\"],[0.4444444444444444,\"#bd3786\"],[0.5555555555555556,\"#d8576b\"],[0.6666666666666666,\"#ed7953\"],[0.7777777777777778,\"#fb9f3a\"],[0.8888888888888888,\"#fdca26\"],[1.0,\"#f0f921\"]],\"sequentialminus\":[[0.0,\"#0d0887\"],[0.1111111111111111,\"#46039f\"],[0.2222222222222222,\"#7201a8\"],[0.3333333333333333,\"#9c179e\"],[0.4444444444444444,\"#bd3786\"],[0.5555555555555556,\"#d8576b\"],[0.6666666666666666,\"#ed7953\"],[0.7777777777777778,\"#fb9f3a\"],[0.8888888888888888,\"#fdca26\"],[1.0,\"#f0f921\"]]},\"colorway\":[\"#636efa\",\"#EF553B\",\"#00cc96\",\"#ab63fa\",\"#FFA15A\",\"#19d3f3\",\"#FF6692\",\"#B6E880\",\"#FF97FF\",\"#FECB52\"],\"font\":{\"color\":\"#2a3f5f\"},\"geo\":{\"bgcolor\":\"white\",\"lakecolor\":\"white\",\"landcolor\":\"#E5ECF6\",\"showlakes\":true,\"showland\":true,\"subunitcolor\":\"white\"},\"hoverlabel\":{\"align\":\"left\"},\"hovermode\":\"closest\",\"mapbox\":{\"style\":\"light\"},\"paper_bgcolor\":\"white\",\"plot_bgcolor\":\"#E5ECF6\",\"polar\":{\"angularaxis\":{\"gridcolor\":\"white\",\"linecolor\":\"white\",\"ticks\":\"\"},\"bgcolor\":\"#E5ECF6\",\"radialaxis\":{\"gridcolor\":\"white\",\"linecolor\":\"white\",\"ticks\":\"\"}},\"scene\":{\"xaxis\":{\"backgroundcolor\":\"#E5ECF6\",\"gridcolor\":\"white\",\"gridwidth\":2,\"linecolor\":\"white\",\"showbackground\":true,\"ticks\":\"\",\"zerolinecolor\":\"white\"},\"yaxis\":{\"backgroundcolor\":\"#E5ECF6\",\"gridcolor\":\"white\",\"gridwidth\":2,\"linecolor\":\"white\",\"showbackground\":true,\"ticks\":\"\",\"zerolinecolor\":\"white\"},\"zaxis\":{\"backgroundcolor\":\"#E5ECF6\",\"gridcolor\":\"white\",\"gridwidth\":2,\"linecolor\":\"white\",\"showbackground\":true,\"ticks\":\"\",\"zerolinecolor\":\"white\"}},\"shapedefaults\":{\"line\":{\"color\":\"#2a3f5f\"}},\"ternary\":{\"aaxis\":{\"gridcolor\":\"white\",\"linecolor\":\"white\",\"ticks\":\"\"},\"baxis\":{\"gridcolor\":\"white\",\"linecolor\":\"white\",\"ticks\":\"\"},\"bgcolor\":\"#E5ECF6\",\"caxis\":{\"gridcolor\":\"white\",\"linecolor\":\"white\",\"ticks\":\"\"}},\"title\":{\"x\":0.05},\"xaxis\":{\"automargin\":true,\"gridcolor\":\"white\",\"linecolor\":\"white\",\"ticks\":\"\",\"title\":{\"standoff\":15},\"zerolinecolor\":\"white\",\"zerolinewidth\":2},\"yaxis\":{\"automargin\":true,\"gridcolor\":\"white\",\"linecolor\":\"white\",\"ticks\":\"\",\"title\":{\"standoff\":15},\"zerolinecolor\":\"white\",\"zerolinewidth\":2}}},\"xaxis\":{\"anchor\":\"y\",\"domain\":[0.0,1.0],\"title\":{\"text\":\"age\"}},\"yaxis\":{\"anchor\":\"x\",\"domain\":[0.0,1.0],\"title\":{\"text\":\"sum of diagnosis\"}},\"legend\":{\"title\":{\"text\":\"sex\"},\"tracegroupgap\":0},\"margin\":{\"t\":60},\"barmode\":\"relative\"},                        {\"responsive\": true}                    ).then(function(){\n",
       "                            \n",
       "var gd = document.getElementById('05afad32-aa0c-4b46-8e46-91167ce1bb61');\n",
       "var x = new MutationObserver(function (mutations, observer) {{\n",
       "        var display = window.getComputedStyle(gd).display;\n",
       "        if (!display || display === 'none') {{\n",
       "            console.log([gd, 'removed!']);\n",
       "            Plotly.purge(gd);\n",
       "            observer.disconnect();\n",
       "        }}\n",
       "}});\n",
       "\n",
       "// Listen for the removal of the full notebook cells\n",
       "var notebookContainer = gd.closest('#notebook-container');\n",
       "if (notebookContainer) {{\n",
       "    x.observe(notebookContainer, {childList: true});\n",
       "}}\n",
       "\n",
       "// Listen for the clearing of the current output cell\n",
       "var outputEl = gd.closest('.output');\n",
       "if (outputEl) {{\n",
       "    x.observe(outputEl, {childList: true});\n",
       "}}\n",
       "\n",
       "                        })                };                });            </script>        </div>"
      ]
     },
     "metadata": {},
     "output_type": "display_data"
    }
   ],
   "source": [
    "px.histogram(df, x=\"age\", y=\"diagnosis\", color=\"sex\")"
   ]
  },
  {
   "cell_type": "markdown",
   "id": "cb068037",
   "metadata": {
    "_cell_guid": "7a1e47b6-dde8-4880-a854-6cbbdf3ef4c9",
    "_uuid": "7edf4c91-9302-4172-b1a2-fdd192abd99a",
    "papermill": {
     "duration": 0.086704,
     "end_time": "2022-08-04T09:55:19.241277",
     "exception": false,
     "start_time": "2022-08-04T09:55:19.154573",
     "status": "completed"
    },
    "tags": []
   },
   "source": [
    "# Pr-Processing for data"
   ]
  },
  {
   "cell_type": "code",
   "execution_count": 29,
   "id": "3a905a15",
   "metadata": {
    "_cell_guid": "7ee6ca0a-a3b2-4f96-82e5-e75518255ac5",
    "_uuid": "df27a233-18ad-4a1e-bb18-1720bd7d4d3b",
    "collapsed": false,
    "execution": {
     "iopub.execute_input": "2022-08-04T09:55:19.420669Z",
     "iopub.status.busy": "2022-08-04T09:55:19.419999Z",
     "iopub.status.idle": "2022-08-04T09:55:19.426721Z",
     "shell.execute_reply": "2022-08-04T09:55:19.427285Z",
     "shell.execute_reply.started": "2022-08-04T09:49:36.265863Z"
    },
    "jupyter": {
     "outputs_hidden": false
    },
    "papermill": {
     "duration": 0.097469,
     "end_time": "2022-08-04T09:55:19.427462",
     "exception": false,
     "start_time": "2022-08-04T09:55:19.329993",
     "status": "completed"
    },
    "tags": []
   },
   "outputs": [
    {
     "data": {
      "text/plain": [
       "F    299\n",
       "M    291\n",
       "Name: sex, dtype: int64"
      ]
     },
     "execution_count": 29,
     "metadata": {},
     "output_type": "execute_result"
    }
   ],
   "source": [
    "df['sex'].value_counts()"
   ]
  },
  {
   "cell_type": "code",
   "execution_count": 30,
   "id": "479af739",
   "metadata": {
    "_cell_guid": "a9306bdd-73cf-4923-920a-f1906163189c",
    "_uuid": "093b1728-0a75-416d-97ec-4b5080ddd1fa",
    "collapsed": false,
    "execution": {
     "iopub.execute_input": "2022-08-04T09:55:19.600885Z",
     "iopub.status.busy": "2022-08-04T09:55:19.600225Z",
     "iopub.status.idle": "2022-08-04T09:55:19.605708Z",
     "shell.execute_reply": "2022-08-04T09:55:19.606230Z",
     "shell.execute_reply.started": "2022-08-04T09:49:36.275440Z"
    },
    "jupyter": {
     "outputs_hidden": false
    },
    "papermill": {
     "duration": 0.094791,
     "end_time": "2022-08-04T09:55:19.606440",
     "exception": false,
     "start_time": "2022-08-04T09:55:19.511649",
     "status": "completed"
    },
    "tags": []
   },
   "outputs": [],
   "source": [
    "df['sex'] = df['sex'].map({'M': 1, 'F': 0})\n",
    "df['sex'] = pd.to_numeric(df['sex'], errors='coerce')"
   ]
  },
  {
   "cell_type": "code",
   "execution_count": 31,
   "id": "33a0539b",
   "metadata": {
    "_cell_guid": "a0b92d9a-07be-4a42-b2dd-720797cbacef",
    "_uuid": "0895fbbc-aff0-47f2-b503-60e70ddb8ef5",
    "collapsed": false,
    "execution": {
     "iopub.execute_input": "2022-08-04T09:55:19.776965Z",
     "iopub.status.busy": "2022-08-04T09:55:19.776265Z",
     "iopub.status.idle": "2022-08-04T09:55:19.783927Z",
     "shell.execute_reply": "2022-08-04T09:55:19.784399Z",
     "shell.execute_reply.started": "2022-08-04T09:49:36.288189Z"
    },
    "jupyter": {
     "outputs_hidden": false
    },
    "papermill": {
     "duration": 0.093457,
     "end_time": "2022-08-04T09:55:19.784583",
     "exception": false,
     "start_time": "2022-08-04T09:55:19.691126",
     "status": "completed"
    },
    "tags": []
   },
   "outputs": [
    {
     "data": {
      "text/plain": [
       "0    299\n",
       "1    291\n",
       "Name: sex, dtype: int64"
      ]
     },
     "execution_count": 31,
     "metadata": {},
     "output_type": "execute_result"
    }
   ],
   "source": [
    "df['sex'].value_counts()"
   ]
  },
  {
   "cell_type": "code",
   "execution_count": 32,
   "id": "edaa20a1",
   "metadata": {
    "_cell_guid": "b589f2c7-f490-45fe-848f-cdc5fd98a623",
    "_uuid": "d1ae5054-57b3-4f41-9556-e2bbea6ab350",
    "collapsed": false,
    "execution": {
     "iopub.execute_input": "2022-08-04T09:55:19.955183Z",
     "iopub.status.busy": "2022-08-04T09:55:19.954449Z",
     "iopub.status.idle": "2022-08-04T09:55:19.960369Z",
     "shell.execute_reply": "2022-08-04T09:55:19.960840Z",
     "shell.execute_reply.started": "2022-08-04T09:49:36.300910Z"
    },
    "jupyter": {
     "outputs_hidden": false
    },
    "papermill": {
     "duration": 0.093122,
     "end_time": "2022-08-04T09:55:19.961054",
     "exception": false,
     "start_time": "2022-08-04T09:55:19.867932",
     "status": "completed"
    },
    "tags": []
   },
   "outputs": [],
   "source": [
    "df['patient_cohort'] = df['patient_cohort'].map({'Cohort1': 1, 'Cohort2': 0})\n",
    "df['patient_cohort'] = pd.to_numeric(df['patient_cohort'], errors='coerce')"
   ]
  },
  {
   "cell_type": "code",
   "execution_count": 33,
   "id": "542eba86",
   "metadata": {
    "_cell_guid": "e9cc12a0-f49a-4e4e-b06b-4cb6f08cec2f",
    "_uuid": "fe19ae71-0ab3-4a28-a41d-1263ced485c3",
    "collapsed": false,
    "execution": {
     "iopub.execute_input": "2022-08-04T09:55:20.133532Z",
     "iopub.status.busy": "2022-08-04T09:55:20.132792Z",
     "iopub.status.idle": "2022-08-04T09:55:20.139811Z",
     "shell.execute_reply": "2022-08-04T09:55:20.140393Z",
     "shell.execute_reply.started": "2022-08-04T09:49:36.310630Z"
    },
    "jupyter": {
     "outputs_hidden": false
    },
    "papermill": {
     "duration": 0.095076,
     "end_time": "2022-08-04T09:55:20.140583",
     "exception": false,
     "start_time": "2022-08-04T09:55:20.045507",
     "status": "completed"
    },
    "tags": []
   },
   "outputs": [
    {
     "data": {
      "text/plain": [
       "1    332\n",
       "0    258\n",
       "Name: patient_cohort, dtype: int64"
      ]
     },
     "execution_count": 33,
     "metadata": {},
     "output_type": "execute_result"
    }
   ],
   "source": [
    "df['patient_cohort'].value_counts()"
   ]
  },
  {
   "cell_type": "code",
   "execution_count": 34,
   "id": "b5c84045",
   "metadata": {
    "_cell_guid": "7946b43a-2050-4bf1-afd6-71cd36727e1b",
    "_uuid": "72aea7a7-2c22-4c4d-bef2-0c83e1e6b5ab",
    "collapsed": false,
    "execution": {
     "iopub.execute_input": "2022-08-04T09:55:20.314534Z",
     "iopub.status.busy": "2022-08-04T09:55:20.313786Z",
     "iopub.status.idle": "2022-08-04T09:55:20.320056Z",
     "shell.execute_reply": "2022-08-04T09:55:20.320582Z",
     "shell.execute_reply.started": "2022-08-04T09:49:36.327258Z"
    },
    "jupyter": {
     "outputs_hidden": false
    },
    "papermill": {
     "duration": 0.094342,
     "end_time": "2022-08-04T09:55:20.320765",
     "exception": false,
     "start_time": "2022-08-04T09:55:20.226423",
     "status": "completed"
    },
    "tags": []
   },
   "outputs": [],
   "source": [
    "df['sample_origin'] = df['sample_origin'].map({'BPTB': 0, 'LIV': 1,'ESP': 2,'UCL': 3})\n",
    "df['sample_origin'] = pd.to_numeric(df['sample_origin'], errors='coerce')"
   ]
  },
  {
   "cell_type": "code",
   "execution_count": 35,
   "id": "eb3fde74",
   "metadata": {
    "_cell_guid": "c1fca714-6557-4c5f-934e-7d0604d9f142",
    "_uuid": "800a6551-e208-4ecd-8304-757339a4e0ab",
    "collapsed": false,
    "execution": {
     "iopub.execute_input": "2022-08-04T09:55:20.496655Z",
     "iopub.status.busy": "2022-08-04T09:55:20.495973Z",
     "iopub.status.idle": "2022-08-04T09:55:20.498895Z",
     "shell.execute_reply": "2022-08-04T09:55:20.499429Z",
     "shell.execute_reply.started": "2022-08-04T09:49:36.341141Z"
    },
    "jupyter": {
     "outputs_hidden": false
    },
    "papermill": {
     "duration": 0.095741,
     "end_time": "2022-08-04T09:55:20.499611",
     "exception": false,
     "start_time": "2022-08-04T09:55:20.403870",
     "status": "completed"
    },
    "tags": []
   },
   "outputs": [
    {
     "data": {
      "text/plain": [
       "0    409\n",
       "1    132\n",
       "2     29\n",
       "3     20\n",
       "Name: sample_origin, dtype: int64"
      ]
     },
     "execution_count": 35,
     "metadata": {},
     "output_type": "execute_result"
    }
   ],
   "source": [
    "df[\"sample_origin\"].value_counts()"
   ]
  },
  {
   "cell_type": "code",
   "execution_count": 36,
   "id": "26335dd4",
   "metadata": {
    "_cell_guid": "935fd99f-a649-4ff1-8d35-f11e9b64780f",
    "_uuid": "738e66a9-2abf-40c4-9794-fdab76e9f752",
    "collapsed": false,
    "execution": {
     "iopub.execute_input": "2022-08-04T09:55:20.682404Z",
     "iopub.status.busy": "2022-08-04T09:55:20.681640Z",
     "iopub.status.idle": "2022-08-04T09:55:20.684723Z",
     "shell.execute_reply": "2022-08-04T09:55:20.685280Z",
     "shell.execute_reply.started": "2022-08-04T09:49:36.434079Z"
    },
    "jupyter": {
     "outputs_hidden": false
    },
    "papermill": {
     "duration": 0.096191,
     "end_time": "2022-08-04T09:55:20.685478",
     "exception": false,
     "start_time": "2022-08-04T09:55:20.589287",
     "status": "completed"
    },
    "tags": []
   },
   "outputs": [],
   "source": [
    "target='diagnosis'"
   ]
  },
  {
   "cell_type": "code",
   "execution_count": 37,
   "id": "9237a941",
   "metadata": {
    "_cell_guid": "7ddc6a3c-cbf7-4845-a1de-fce4ff14ab43",
    "_uuid": "a0443eab-abd4-45f2-860f-a058cc054e08",
    "collapsed": false,
    "execution": {
     "iopub.execute_input": "2022-08-04T09:55:20.860596Z",
     "iopub.status.busy": "2022-08-04T09:55:20.859818Z",
     "iopub.status.idle": "2022-08-04T09:55:20.864965Z",
     "shell.execute_reply": "2022-08-04T09:55:20.865470Z",
     "shell.execute_reply.started": "2022-08-04T09:49:36.573894Z"
    },
    "jupyter": {
     "outputs_hidden": false
    },
    "papermill": {
     "duration": 0.094868,
     "end_time": "2022-08-04T09:55:20.865670",
     "exception": false,
     "start_time": "2022-08-04T09:55:20.770802",
     "status": "completed"
    },
    "tags": []
   },
   "outputs": [],
   "source": [
    "x = df.drop(target, axis=1)\n",
    "y = df[target]"
   ]
  },
  {
   "cell_type": "code",
   "execution_count": 38,
   "id": "145a041c",
   "metadata": {
    "_cell_guid": "c0c22297-01bf-4b63-8c53-31161c4c01a0",
    "_uuid": "15ef4563-f3ed-4ac7-823d-9b4667ba93cd",
    "collapsed": false,
    "execution": {
     "iopub.execute_input": "2022-08-04T09:55:21.043026Z",
     "iopub.status.busy": "2022-08-04T09:55:21.042315Z",
     "iopub.status.idle": "2022-08-04T09:55:21.292565Z",
     "shell.execute_reply": "2022-08-04T09:55:21.291883Z",
     "shell.execute_reply.started": "2022-08-04T09:49:36.715910Z"
    },
    "jupyter": {
     "outputs_hidden": false
    },
    "papermill": {
     "duration": 0.341173,
     "end_time": "2022-08-04T09:55:21.292724",
     "exception": false,
     "start_time": "2022-08-04T09:55:20.951551",
     "status": "completed"
    },
    "tags": []
   },
   "outputs": [],
   "source": [
    "#Spliting dataset into training set and testing test\n",
    "from sklearn.model_selection import train_test_split\n",
    "X_train,X_test,y_train,y_test=train_test_split(x,y,test_size=0.33,random_state=0)"
   ]
  },
  {
   "cell_type": "code",
   "execution_count": 39,
   "id": "708511b5",
   "metadata": {
    "_cell_guid": "0fd85416-fee3-4ec1-bea9-c37494435918",
    "_uuid": "82ea933f-b3dc-455e-94e0-c1b066bbe859",
    "collapsed": false,
    "execution": {
     "iopub.execute_input": "2022-08-04T09:55:21.468058Z",
     "iopub.status.busy": "2022-08-04T09:55:21.467093Z",
     "iopub.status.idle": "2022-08-04T09:55:21.478033Z",
     "shell.execute_reply": "2022-08-04T09:55:21.478579Z",
     "shell.execute_reply.started": "2022-08-04T09:49:36.891147Z"
    },
    "jupyter": {
     "outputs_hidden": false
    },
    "papermill": {
     "duration": 0.10076,
     "end_time": "2022-08-04T09:55:21.478764",
     "exception": false,
     "start_time": "2022-08-04T09:55:21.378004",
     "status": "completed"
    },
    "tags": []
   },
   "outputs": [],
   "source": [
    "# Feature Scaling\n",
    "from sklearn.preprocessing import StandardScaler\n",
    "sc = StandardScaler()\n",
    "X_train = sc.fit_transform(X_train)\n",
    "X_test = sc.transform(X_test)"
   ]
  },
  {
   "cell_type": "markdown",
   "id": "c9dcd9a3",
   "metadata": {
    "_cell_guid": "4e900290-604f-4289-b582-e2c50a6e11c5",
    "_uuid": "2ddb5adc-a71a-4a86-9ea8-6414c9e39ced",
    "papermill": {
     "duration": 0.086849,
     "end_time": "2022-08-04T09:55:21.651857",
     "exception": false,
     "start_time": "2022-08-04T09:55:21.565008",
     "status": "completed"
    },
    "tags": []
   },
   "source": [
    "# Using DecisionTreeRegressor"
   ]
  },
  {
   "cell_type": "code",
   "execution_count": 40,
   "id": "ee27714b",
   "metadata": {
    "_cell_guid": "a19f366a-b92a-4916-b512-9d2d2a040470",
    "_uuid": "2a79a71a-60d1-4bff-97d3-4894a6ca627a",
    "collapsed": false,
    "execution": {
     "iopub.execute_input": "2022-08-04T09:55:21.829982Z",
     "iopub.status.busy": "2022-08-04T09:55:21.829276Z",
     "iopub.status.idle": "2022-08-04T09:55:22.037556Z",
     "shell.execute_reply": "2022-08-04T09:55:22.036869Z",
     "shell.execute_reply.started": "2022-08-04T09:49:36.989130Z"
    },
    "jupyter": {
     "outputs_hidden": false
    },
    "papermill": {
     "duration": 0.298525,
     "end_time": "2022-08-04T09:55:22.037707",
     "exception": false,
     "start_time": "2022-08-04T09:55:21.739182",
     "status": "completed"
    },
    "tags": []
   },
   "outputs": [
    {
     "data": {
      "text/plain": [
       "DecisionTreeClassifier()"
      ]
     },
     "execution_count": 40,
     "metadata": {},
     "output_type": "execute_result"
    }
   ],
   "source": [
    "# Fitting Decision Tree Regression to the dataset\n",
    "from sklearn.tree import DecisionTreeClassifier\n",
    "regressor = DecisionTreeClassifier()\n",
    "regressor.fit(X_train, y_train)"
   ]
  },
  {
   "cell_type": "code",
   "execution_count": 41,
   "id": "2b3620de",
   "metadata": {
    "_cell_guid": "d314589c-8a0f-405f-8f50-ad99897fbb78",
    "_uuid": "e71c96f7-767f-452a-820f-d0753b69fc19",
    "collapsed": false,
    "execution": {
     "iopub.execute_input": "2022-08-04T09:55:22.217344Z",
     "iopub.status.busy": "2022-08-04T09:55:22.216572Z",
     "iopub.status.idle": "2022-08-04T09:55:22.223100Z",
     "shell.execute_reply": "2022-08-04T09:55:22.222408Z",
     "shell.execute_reply.started": "2022-08-04T09:49:37.136049Z"
    },
    "jupyter": {
     "outputs_hidden": false
    },
    "papermill": {
     "duration": 0.097152,
     "end_time": "2022-08-04T09:55:22.223251",
     "exception": false,
     "start_time": "2022-08-04T09:55:22.126099",
     "status": "completed"
    },
    "tags": []
   },
   "outputs": [
    {
     "name": "stdout",
     "output_type": "stream",
     "text": [
      "Ridge Regression Train Score is :  1.0\n",
      "Ridge Regression Test Score is :  0.5692307692307692\n"
     ]
    }
   ],
   "source": [
    "print('Ridge Regression Train Score is : ' , regressor.score(X_train, y_train))\n",
    "print('Ridge Regression Test Score is : ' , regressor.score(X_test, y_test))"
   ]
  },
  {
   "cell_type": "code",
   "execution_count": 42,
   "id": "c17cc031",
   "metadata": {
    "_cell_guid": "4eec902e-515f-4c7f-a91d-677092d097bf",
    "_uuid": "27e2cfb9-e9d1-4d42-9b03-6211afbffbf8",
    "collapsed": false,
    "execution": {
     "iopub.execute_input": "2022-08-04T09:55:22.403757Z",
     "iopub.status.busy": "2022-08-04T09:55:22.403089Z",
     "iopub.status.idle": "2022-08-04T09:55:22.405882Z",
     "shell.execute_reply": "2022-08-04T09:55:22.405316Z",
     "shell.execute_reply.started": "2022-08-04T09:49:37.452056Z"
    },
    "jupyter": {
     "outputs_hidden": false
    },
    "papermill": {
     "duration": 0.096778,
     "end_time": "2022-08-04T09:55:22.406060",
     "exception": false,
     "start_time": "2022-08-04T09:55:22.309282",
     "status": "completed"
    },
    "tags": []
   },
   "outputs": [],
   "source": [
    "# Predicting the Test set results\n",
    "y_pred = regressor.predict(X_test)"
   ]
  },
  {
   "cell_type": "code",
   "execution_count": 43,
   "id": "eafae5e9",
   "metadata": {
    "_cell_guid": "77bee414-4b6a-4385-ba91-4414c4e44272",
    "_uuid": "c33007cc-173e-4b47-a006-efa5a66d1283",
    "collapsed": false,
    "execution": {
     "iopub.execute_input": "2022-08-04T09:55:22.586474Z",
     "iopub.status.busy": "2022-08-04T09:55:22.585778Z",
     "iopub.status.idle": "2022-08-04T09:55:22.592013Z",
     "shell.execute_reply": "2022-08-04T09:55:22.592607Z",
     "shell.execute_reply.started": "2022-08-04T09:49:37.461203Z"
    },
    "jupyter": {
     "outputs_hidden": false
    },
    "papermill": {
     "duration": 0.098386,
     "end_time": "2022-08-04T09:55:22.592797",
     "exception": false,
     "start_time": "2022-08-04T09:55:22.494411",
     "status": "completed"
    },
    "tags": []
   },
   "outputs": [],
   "source": [
    "# Making the Confusion Matrix\n",
    "from sklearn.metrics import confusion_matrix\n",
    "cm = confusion_matrix(y_test, y_pred)"
   ]
  },
  {
   "cell_type": "code",
   "execution_count": 44,
   "id": "08eb702a",
   "metadata": {
    "_cell_guid": "b9f18a5d-0b1a-47db-b568-62b23800b066",
    "_uuid": "221efe75-f4b7-448c-9652-247381f57d88",
    "collapsed": false,
    "execution": {
     "iopub.execute_input": "2022-08-04T09:55:22.769472Z",
     "iopub.status.busy": "2022-08-04T09:55:22.768788Z",
     "iopub.status.idle": "2022-08-04T09:55:23.074004Z",
     "shell.execute_reply": "2022-08-04T09:55:23.073307Z",
     "shell.execute_reply.started": "2022-08-04T09:49:37.779201Z"
    },
    "jupyter": {
     "outputs_hidden": false
    },
    "papermill": {
     "duration": 0.393266,
     "end_time": "2022-08-04T09:55:23.074156",
     "exception": false,
     "start_time": "2022-08-04T09:55:22.680890",
     "status": "completed"
    },
    "tags": []
   },
   "outputs": [
    {
     "data": {
      "image/png": "[encoded data removed]",
      "text/plain": [
       "<Figure size 432x288 with 2 Axes>"
      ]
     },
     "metadata": {},
     "output_type": "display_data"
    }
   ],
   "source": [
    "import seaborn as sns\n",
    "from sklearn.metrics import confusion_matrix\n",
    "\n",
    "cm = confusion_matrix(y_test, y_pred)\n",
    "f = sns.heatmap(cm, annot=True, fmt='d')"
   ]
  },
  {
   "cell_type": "code",
   "execution_count": 45,
   "id": "50f7d61d",
   "metadata": {
    "_cell_guid": "03dbf77b-7e4f-4640-a10e-90b8cb447c81",
    "_uuid": "44db56db-de9e-4151-83aa-8fb6dde3cdd8",
    "collapsed": false,
    "execution": {
     "iopub.execute_input": "2022-08-04T09:55:23.255111Z",
     "iopub.status.busy": "2022-08-04T09:55:23.254440Z",
     "iopub.status.idle": "2022-08-04T09:55:23.257195Z",
     "shell.execute_reply": "2022-08-04T09:55:23.257721Z",
     "shell.execute_reply.started": "2022-08-04T09:49:38.020151Z"
    },
    "jupyter": {
     "outputs_hidden": false
    },
    "papermill": {
     "duration": 0.096355,
     "end_time": "2022-08-04T09:55:23.257896",
     "exception": false,
     "start_time": "2022-08-04T09:55:23.161541",
     "status": "completed"
    },
    "tags": []
   },
   "outputs": [
    {
     "name": "stdout",
     "output_type": "stream",
     "text": [
      "Sensitivity :  0.6666666666666666\n",
      "Specificity :  0.68\n"
     ]
    }
   ],
   "source": [
    "total=sum(sum(cm))\n",
    "\n",
    "sensitivity = cm[0,0]/(cm[0,0]+cm[1,0])\n",
    "print('Sensitivity : ', sensitivity )\n",
    "\n",
    "specificity = cm[1,1]/(cm[1,1]+cm[0,1])\n",
    "print('Specificity : ', specificity)"
   ]
  },
  {
   "cell_type": "code",
   "execution_count": 46,
   "id": "4bb1442f",
   "metadata": {
    "_cell_guid": "0add9b8b-5161-4b8e-8e23-3ea1e9c26ca1",
    "_uuid": "fd569fcf-8e5c-4f45-9bd0-b514141ee0b9",
    "collapsed": false,
    "execution": {
     "iopub.execute_input": "2022-08-04T09:55:23.434581Z",
     "iopub.status.busy": "2022-08-04T09:55:23.433868Z",
     "iopub.status.idle": "2022-08-04T09:55:23.439716Z",
     "shell.execute_reply": "2022-08-04T09:55:23.440243Z",
     "shell.execute_reply.started": "2022-08-04T09:49:38.028565Z"
    },
    "jupyter": {
     "outputs_hidden": false
    },
    "papermill": {
     "duration": 0.095261,
     "end_time": "2022-08-04T09:55:23.440420",
     "exception": false,
     "start_time": "2022-08-04T09:55:23.345159",
     "status": "completed"
    },
    "tags": []
   },
   "outputs": [
    {
     "data": {
      "text/plain": [
       "0.5692307692307692"
      ]
     },
     "execution_count": 46,
     "metadata": {},
     "output_type": "execute_result"
    }
   ],
   "source": [
    "from sklearn.metrics import accuracy_score\n",
    "accuracy_score(y_test, y_pred)"
   ]
  },
  {
   "cell_type": "markdown",
   "id": "c10a2d08",
   "metadata": {
    "_cell_guid": "80de8107-a033-40fa-bdd4-ccdd33ac85b1",
    "_uuid": "3b7f5234-288c-416b-ab4f-4d43a4df0c70",
    "papermill": {
     "duration": 0.091793,
     "end_time": "2022-08-04T09:55:23.620584",
     "exception": false,
     "start_time": "2022-08-04T09:55:23.528791",
     "status": "completed"
    },
    "tags": []
   },
   "source": [
    "# Using XGB"
   ]
  },
  {
   "cell_type": "code",
   "execution_count": 47,
   "id": "da9188c9",
   "metadata": {
    "_cell_guid": "b99417ce-76de-4f33-910a-28d5679a8eca",
    "_uuid": "fd5b008a-1a8d-4fc6-82fa-96bd47ec8e11",
    "collapsed": false,
    "execution": {
     "iopub.execute_input": "2022-08-04T09:55:23.802715Z",
     "iopub.status.busy": "2022-08-04T09:55:23.801695Z",
     "iopub.status.idle": "2022-08-04T09:55:24.479387Z",
     "shell.execute_reply": "2022-08-04T09:55:24.478782Z",
     "shell.execute_reply.started": "2022-08-04T09:49:38.042217Z"
    },
    "jupyter": {
     "outputs_hidden": false
    },
    "papermill": {
     "duration": 0.769243,
     "end_time": "2022-08-04T09:55:24.479553",
     "exception": false,
     "start_time": "2022-08-04T09:55:23.710310",
     "status": "completed"
    },
    "tags": []
   },
   "outputs": [
    {
     "name": "stdout",
     "output_type": "stream",
     "text": [
      "[09:55:23] WARNING: ../src/learner.cc:1115: Starting in XGBoost 1.3.0, the default evaluation metric used with the objective 'multi:softprob' was changed from 'merror' to 'mlogloss'. Explicitly set eval_metric if you'd like to restore the old behavior.\n"
     ]
    },
    {
     "data": {
      "text/plain": [
       "XGBClassifier(base_score=0.5, booster='gbtree', colsample_bylevel=1,\n",
       "              colsample_bynode=1, colsample_bytree=1, enable_categorical=False,\n",
       "              gamma=0, gpu_id=-1, importance_type=None,\n",
       "              interaction_constraints='', learning_rate=0.300000012,\n",
       "              max_delta_step=0, max_depth=6, min_child_weight=1, missing=nan,\n",
       "              monotone_constraints='()', n_estimators=100, n_jobs=4,\n",
       "              num_parallel_tree=1, objective='multi:softprob', predictor='auto',\n",
       "              random_state=0, reg_alpha=0, reg_lambda=1, scale_pos_weight=None,\n",
       "              subsample=1, tree_method='exact', validate_parameters=1,\n",
       "              verbosity=None)"
      ]
     },
     "execution_count": 47,
     "metadata": {},
     "output_type": "execute_result"
    }
   ],
   "source": [
    "from xgboost import XGBClassifier\n",
    "regressor = XGBClassifier()\n",
    "regressor.fit(X_train, y_train)"
   ]
  },
  {
   "cell_type": "code",
   "execution_count": 48,
   "id": "22c7e363",
   "metadata": {
    "_cell_guid": "ace7ffc7-6e53-4728-9b7e-d9f391cdb552",
    "_uuid": "7d939655-34af-4bc9-a444-3d6bce13a52b",
    "collapsed": false,
    "execution": {
     "iopub.execute_input": "2022-08-04T09:55:24.667455Z",
     "iopub.status.busy": "2022-08-04T09:55:24.666428Z",
     "iopub.status.idle": "2022-08-04T09:55:24.686012Z",
     "shell.execute_reply": "2022-08-04T09:55:24.686833Z",
     "shell.execute_reply.started": "2022-08-04T09:49:38.565327Z"
    },
    "jupyter": {
     "outputs_hidden": false
    },
    "papermill": {
     "duration": 0.116459,
     "end_time": "2022-08-04T09:55:24.687219",
     "exception": false,
     "start_time": "2022-08-04T09:55:24.570760",
     "status": "completed"
    },
    "tags": []
   },
   "outputs": [
    {
     "name": "stdout",
     "output_type": "stream",
     "text": [
      "XGB Regression Train Score is :  1.0\n",
      "XGB Regression Test Score is :  0.7076923076923077\n"
     ]
    }
   ],
   "source": [
    "print('XGB Regression Train Score is : ' , regressor.score(X_train, y_train))\n",
    "print('XGB Regression Test Score is : ' , regressor.score(X_test, y_test))"
   ]
  },
  {
   "cell_type": "code",
   "execution_count": 49,
   "id": "3a642f4a",
   "metadata": {
    "_cell_guid": "1fb3fb60-054d-49de-b1c1-830fc3421648",
    "_uuid": "3ea117b1-1618-4e5e-8005-922ea218ca09",
    "collapsed": false,
    "execution": {
     "iopub.execute_input": "2022-08-04T09:55:24.877149Z",
     "iopub.status.busy": "2022-08-04T09:55:24.876360Z",
     "iopub.status.idle": "2022-08-04T09:55:24.903945Z",
     "shell.execute_reply": "2022-08-04T09:55:24.904570Z",
     "shell.execute_reply.started": "2022-08-04T09:49:38.588178Z"
    },
    "jupyter": {
     "outputs_hidden": false
    },
    "papermill": {
     "duration": 0.121466,
     "end_time": "2022-08-04T09:55:24.904776",
     "exception": false,
     "start_time": "2022-08-04T09:55:24.783310",
     "status": "completed"
    },
    "tags": []
   },
   "outputs": [],
   "source": [
    "# Predicting the Test set results\n",
    "y_pred = regressor.predict(X_test)"
   ]
  },
  {
   "cell_type": "code",
   "execution_count": 50,
   "id": "7b402968",
   "metadata": {
    "_cell_guid": "be78e690-cf19-4925-8b38-116e77406a9a",
    "_uuid": "50581603-3f00-49af-8485-8752cdf67261",
    "collapsed": false,
    "execution": {
     "iopub.execute_input": "2022-08-04T09:55:25.088159Z",
     "iopub.status.busy": "2022-08-04T09:55:25.087414Z",
     "iopub.status.idle": "2022-08-04T09:55:25.095027Z",
     "shell.execute_reply": "2022-08-04T09:55:25.094092Z",
     "shell.execute_reply.started": "2022-08-04T09:49:38.604259Z"
    },
    "jupyter": {
     "outputs_hidden": false
    },
    "papermill": {
     "duration": 0.102289,
     "end_time": "2022-08-04T09:55:25.095262",
     "exception": false,
     "start_time": "2022-08-04T09:55:24.992973",
     "status": "completed"
    },
    "tags": []
   },
   "outputs": [
    {
     "name": "stdout",
     "output_type": "stream",
     "text": [
      "Sensitivity :  0.6666666666666666\n",
      "Specificity :  0.68\n"
     ]
    }
   ],
   "source": [
    "\n",
    "total=sum(sum(cm))\n",
    "\n",
    "sensitivity = cm[0,0]/(cm[0,0]+cm[1,0])\n",
    "print('Sensitivity : ', sensitivity )\n",
    "\n",
    "specificity = cm[1,1]/(cm[1,1]+cm[0,1])\n",
    "print('Specificity : ', specificity)"
   ]
  },
  {
   "cell_type": "code",
   "execution_count": 51,
   "id": "40c24e65",
   "metadata": {
    "_cell_guid": "58edc31a-4eba-4c36-a0ff-aa6e0fe16d16",
    "_uuid": "2fcd881a-0813-44f1-b5bf-165674b988d0",
    "collapsed": false,
    "execution": {
     "iopub.execute_input": "2022-08-04T09:55:25.280374Z",
     "iopub.status.busy": "2022-08-04T09:55:25.279623Z",
     "iopub.status.idle": "2022-08-04T09:55:25.285222Z",
     "shell.execute_reply": "2022-08-04T09:55:25.285755Z",
     "shell.execute_reply.started": "2022-08-04T09:49:38.694707Z"
    },
    "jupyter": {
     "outputs_hidden": false
    },
    "papermill": {
     "duration": 0.100012,
     "end_time": "2022-08-04T09:55:25.285967",
     "exception": false,
     "start_time": "2022-08-04T09:55:25.185955",
     "status": "completed"
    },
    "tags": []
   },
   "outputs": [
    {
     "data": {
      "text/plain": [
       "0.7076923076923077"
      ]
     },
     "execution_count": 51,
     "metadata": {},
     "output_type": "execute_result"
    }
   ],
   "source": [
    "from sklearn.metrics import accuracy_score\n",
    "accuracy_score(y_test, y_pred)"
   ]
  },
  {
   "cell_type": "markdown",
   "id": "84540b20",
   "metadata": {
    "_cell_guid": "5343c03f-2893-49d3-8717-57df6c9b1bdf",
    "_uuid": "1458e136-96f5-4af6-bff2-8dd8d5b3d8a7",
    "papermill": {
     "duration": 0.088566,
     "end_time": "2022-08-04T09:55:25.466031",
     "exception": false,
     "start_time": "2022-08-04T09:55:25.377465",
     "status": "completed"
    },
    "tags": []
   },
   "source": [
    "# Using LGBM"
   ]
  },
  {
   "cell_type": "code",
   "execution_count": 52,
   "id": "db6ff0f8",
   "metadata": {
    "_cell_guid": "d78281c9-5d75-4a36-9e67-774e0a4887b5",
    "_uuid": "c73a29a4-a7dc-4c76-a2db-f5ddce6dcf63",
    "collapsed": false,
    "execution": {
     "iopub.execute_input": "2022-08-04T09:55:25.654597Z",
     "iopub.status.busy": "2022-08-04T09:55:25.653832Z",
     "iopub.status.idle": "2022-08-04T09:55:26.154057Z",
     "shell.execute_reply": "2022-08-04T09:55:26.155085Z",
     "shell.execute_reply.started": "2022-08-04T09:49:39.004932Z"
    },
    "jupyter": {
     "outputs_hidden": false
    },
    "papermill": {
     "duration": 0.596772,
     "end_time": "2022-08-04T09:55:26.155304",
     "exception": false,
     "start_time": "2022-08-04T09:55:25.558532",
     "status": "completed"
    },
    "tags": []
   },
   "outputs": [
    {
     "data": {
      "text/html": [
       "<style type='text/css'>\n",
       ".datatable table.frame { margin-bottom: 0; }\n",
       ".datatable table.frame thead { border-bottom: none; }\n",
       ".datatable table.frame tr.coltypes td {  color: #FFFFFF;  line-height: 6px;  padding: 0 0.5em;}\n",
       ".datatable .bool    { background: #DDDD99; }\n",
       ".datatable .object  { background: #565656; }\n",
       ".datatable .int     { background: #5D9E5D; }\n",
       ".datatable .float   { background: #4040CC; }\n",
       ".datatable .str     { background: #CC4040; }\n",
       ".datatable .time    { background: #40CC40; }\n",
       ".datatable .row_index {  background: var(--jp-border-color3);  border-right: 1px solid var(--jp-border-color0);  color: var(--jp-ui-font-color3);  font-size: 9px;}\n",
       ".datatable .frame tbody td { text-align: left; }\n",
       ".datatable .frame tr.coltypes .row_index {  background: var(--jp-border-color0);}\n",
       ".datatable th:nth-child(2) { padding-left: 12px; }\n",
       ".datatable .hellipsis {  color: var(--jp-cell-editor-border-color);}\n",
       ".datatable .vellipsis {  background: var(--jp-layout-color0);  color: var(--jp-cell-editor-border-color);}\n",
       ".datatable .na {  color: var(--jp-cell-editor-border-color);  font-size: 80%;}\n",
       ".datatable .sp {  opacity: 0.25;}\n",
       ".datatable .footer { font-size: 9px; }\n",
       ".datatable .frame_dimensions {  background: var(--jp-border-color3);  border-top: 1px solid var(--jp-border-color0);  color: var(--jp-ui-font-color3);  display: inline-block;  opacity: 0.6;  padding: 1px 10px 1px 5px;}\n",
       "</style>\n"
      ],
      "text/plain": [
       "<IPython.core.display.HTML object>"
      ]
     },
     "metadata": {},
     "output_type": "display_data"
    },
    {
     "data": {
      "text/plain": [
       "LGBMClassifier()"
      ]
     },
     "execution_count": 52,
     "metadata": {},
     "output_type": "execute_result"
    }
   ],
   "source": [
    "import lightgbm as ltb\n",
    "regressor = ltb.LGBMClassifier()\n",
    "regressor.fit(X_train, y_train)"
   ]
  },
  {
   "cell_type": "code",
   "execution_count": 53,
   "id": "04e3d83b",
   "metadata": {
    "_cell_guid": "24420d26-b121-4194-a4a7-d4d7f078a0a1",
    "_uuid": "ea8def64-86f2-474b-8ce6-b15ffd5264dd",
    "collapsed": false,
    "execution": {
     "iopub.execute_input": "2022-08-04T09:55:26.344675Z",
     "iopub.status.busy": "2022-08-04T09:55:26.343949Z",
     "iopub.status.idle": "2022-08-04T09:55:26.358295Z",
     "shell.execute_reply": "2022-08-04T09:55:26.359310Z",
     "shell.execute_reply.started": "2022-08-04T09:49:39.151197Z"
    },
    "jupyter": {
     "outputs_hidden": false
    },
    "papermill": {
     "duration": 0.112102,
     "end_time": "2022-08-04T09:55:26.359682",
     "exception": false,
     "start_time": "2022-08-04T09:55:26.247580",
     "status": "completed"
    },
    "tags": []
   },
   "outputs": [
    {
     "name": "stdout",
     "output_type": "stream",
     "text": [
      "LGBM Train Score is :  1.0\n",
      "LGBM Test Score is :  0.7128205128205128\n"
     ]
    }
   ],
   "source": [
    "print('LGBM Train Score is : ' , regressor.score(X_train, y_train))\n",
    "print('LGBM Test Score is : ' , regressor.score(X_test, y_test))"
   ]
  },
  {
   "cell_type": "code",
   "execution_count": 54,
   "id": "2a849ac7",
   "metadata": {
    "_cell_guid": "fc901570-195b-4040-a658-0dc9f8e7f208",
    "_uuid": "a265911b-3be1-4029-a334-030638b6f27f",
    "collapsed": false,
    "execution": {
     "iopub.execute_input": "2022-08-04T09:55:26.553279Z",
     "iopub.status.busy": "2022-08-04T09:55:26.552444Z",
     "iopub.status.idle": "2022-08-04T09:55:26.559119Z",
     "shell.execute_reply": "2022-08-04T09:55:26.559812Z",
     "shell.execute_reply.started": "2022-08-04T09:49:39.165663Z"
    },
    "jupyter": {
     "outputs_hidden": false
    },
    "papermill": {
     "duration": 0.106182,
     "end_time": "2022-08-04T09:55:26.560048",
     "exception": false,
     "start_time": "2022-08-04T09:55:26.453866",
     "status": "completed"
    },
    "tags": []
   },
   "outputs": [],
   "source": [
    "# Predicting the Test set results\n",
    "y_pred = regressor.predict(X_test)"
   ]
  },
  {
   "cell_type": "code",
   "execution_count": 55,
   "id": "cbfe44d5",
   "metadata": {
    "_cell_guid": "87910028-24d0-4a90-adce-044d0594a5d7",
    "_uuid": "2496792a-f4e2-4de4-9455-1800a5c4cad0",
    "collapsed": false,
    "execution": {
     "iopub.execute_input": "2022-08-04T09:55:26.761438Z",
     "iopub.status.busy": "2022-08-04T09:55:26.760712Z",
     "iopub.status.idle": "2022-08-04T09:55:26.764946Z",
     "shell.execute_reply": "2022-08-04T09:55:26.765403Z",
     "shell.execute_reply.started": "2022-08-04T09:49:39.174988Z"
    },
    "jupyter": {
     "outputs_hidden": false
    },
    "papermill": {
     "duration": 0.100992,
     "end_time": "2022-08-04T09:55:26.765581",
     "exception": false,
     "start_time": "2022-08-04T09:55:26.664589",
     "status": "completed"
    },
    "tags": []
   },
   "outputs": [
    {
     "name": "stdout",
     "output_type": "stream",
     "text": [
      "Sensitivity :  0.6666666666666666\n",
      "Specificity :  0.68\n"
     ]
    }
   ],
   "source": [
    "total=sum(sum(cm))\n",
    "\n",
    "sensitivity = cm[0,0]/(cm[0,0]+cm[1,0])\n",
    "print('Sensitivity : ', sensitivity )\n",
    "\n",
    "specificity = cm[1,1]/(cm[1,1]+cm[0,1])\n",
    "print('Specificity : ', specificity)"
   ]
  },
  {
   "cell_type": "code",
   "execution_count": 56,
   "id": "d47e42c5",
   "metadata": {
    "_cell_guid": "f2d5d6d1-e7cf-441d-8d3c-a661e9c72eda",
    "_uuid": "30dc362f-bba1-438e-adbe-c912e96b8ea7",
    "collapsed": false,
    "execution": {
     "iopub.execute_input": "2022-08-04T09:55:26.963980Z",
     "iopub.status.busy": "2022-08-04T09:55:26.962889Z",
     "iopub.status.idle": "2022-08-04T09:55:26.966930Z",
     "shell.execute_reply": "2022-08-04T09:55:26.967653Z",
     "shell.execute_reply.started": "2022-08-04T09:49:39.310827Z"
    },
    "jupyter": {
     "outputs_hidden": false
    },
    "papermill": {
     "duration": 0.109993,
     "end_time": "2022-08-04T09:55:26.967892",
     "exception": false,
     "start_time": "2022-08-04T09:55:26.857899",
     "status": "completed"
    },
    "tags": []
   },
   "outputs": [
    {
     "data": {
      "text/plain": [
       "0.7128205128205128"
      ]
     },
     "execution_count": 56,
     "metadata": {},
     "output_type": "execute_result"
    }
   ],
   "source": [
    "from sklearn.metrics import accuracy_score\n",
    "accuracy_score(y_test, y_pred)"
   ]
  },
  {
   "cell_type": "markdown",
   "id": "a98e3093",
   "metadata": {
    "_cell_guid": "dcc54758-a9b4-4473-b776-8514baf475ed",
    "_uuid": "549fd92c-0525-4133-86aa-d1e0812836a3",
    "papermill": {
     "duration": 0.091443,
     "end_time": "2022-08-04T09:55:27.177472",
     "exception": false,
     "start_time": "2022-08-04T09:55:27.086029",
     "status": "completed"
    },
    "tags": []
   },
   "source": [
    "# RandomForest"
   ]
  },
  {
   "cell_type": "code",
   "execution_count": 57,
   "id": "59bf82e1",
   "metadata": {
    "_cell_guid": "dd25f11a-969f-488a-b893-d08f0ce567e7",
    "_uuid": "bab606ca-045c-453d-ae1f-5014b5cf4f70",
    "collapsed": false,
    "execution": {
     "iopub.execute_input": "2022-08-04T09:55:27.364054Z",
     "iopub.status.busy": "2022-08-04T09:55:27.363191Z",
     "iopub.status.idle": "2022-08-04T09:55:27.785015Z",
     "shell.execute_reply": "2022-08-04T09:55:27.784409Z",
     "shell.execute_reply.started": "2022-08-04T09:51:25.620347Z"
    },
    "jupyter": {
     "outputs_hidden": false
    },
    "papermill": {
     "duration": 0.517878,
     "end_time": "2022-08-04T09:55:27.785179",
     "exception": false,
     "start_time": "2022-08-04T09:55:27.267301",
     "status": "completed"
    },
    "tags": []
   },
   "outputs": [
    {
     "data": {
      "text/plain": [
       "RandomForestClassifier()"
      ]
     },
     "execution_count": 57,
     "metadata": {},
     "output_type": "execute_result"
    }
   ],
   "source": [
    "from sklearn.ensemble import RandomForestClassifier\n",
    "regressor = RandomForestClassifier()\n",
    "regressor.fit(X_train, y_train)"
   ]
  },
  {
   "cell_type": "code",
   "execution_count": 58,
   "id": "f473090e",
   "metadata": {
    "_cell_guid": "013d3f48-74fb-4f64-a363-710cfcdd0c33",
    "_uuid": "d970e011-6512-47e9-9ddc-248e7500d543",
    "collapsed": false,
    "execution": {
     "iopub.execute_input": "2022-08-04T09:55:27.983110Z",
     "iopub.status.busy": "2022-08-04T09:55:27.981966Z",
     "iopub.status.idle": "2022-08-04T09:55:28.022491Z",
     "shell.execute_reply": "2022-08-04T09:55:28.023373Z",
     "shell.execute_reply.started": "2022-08-04T09:51:32.774495Z"
    },
    "jupyter": {
     "outputs_hidden": false
    },
    "papermill": {
     "duration": 0.144313,
     "end_time": "2022-08-04T09:55:28.023684",
     "exception": false,
     "start_time": "2022-08-04T09:55:27.879371",
     "status": "completed"
    },
    "tags": []
   },
   "outputs": [
    {
     "name": "stdout",
     "output_type": "stream",
     "text": [
      "RF Train Score is :  1.0\n",
      "RF Test Score is :  0.7230769230769231\n"
     ]
    }
   ],
   "source": [
    "print('RF Train Score is : ' , regressor.score(X_train, y_train))\n",
    "print('RF Test Score is : ' , regressor.score(X_test, y_test))"
   ]
  },
  {
   "cell_type": "code",
   "execution_count": 59,
   "id": "19269859",
   "metadata": {
    "_cell_guid": "e6c2a66f-c02d-49fa-a0f4-ab470ae2b2e2",
    "_uuid": "4701218b-abbc-466a-bf03-27f123b277cf",
    "collapsed": false,
    "execution": {
     "iopub.execute_input": "2022-08-04T09:55:28.216333Z",
     "iopub.status.busy": "2022-08-04T09:55:28.215380Z",
     "iopub.status.idle": "2022-08-04T09:55:28.234942Z",
     "shell.execute_reply": "2022-08-04T09:55:28.235530Z",
     "shell.execute_reply.started": "2022-08-04T09:51:35.277584Z"
    },
    "jupyter": {
     "outputs_hidden": false
    },
    "papermill": {
     "duration": 0.116679,
     "end_time": "2022-08-04T09:55:28.235716",
     "exception": false,
     "start_time": "2022-08-04T09:55:28.119037",
     "status": "completed"
    },
    "tags": []
   },
   "outputs": [],
   "source": [
    "# Predicting the Test set results\n",
    "y_pred = regressor.predict(X_test)"
   ]
  },
  {
   "cell_type": "code",
   "execution_count": 60,
   "id": "ea4c9aa2",
   "metadata": {
    "_cell_guid": "8dbbfb7a-0848-4d1d-8153-264f062a970d",
    "_uuid": "2f52de11-895e-4e78-baac-9172f229a3d5",
    "collapsed": false,
    "execution": {
     "iopub.execute_input": "2022-08-04T09:55:28.421614Z",
     "iopub.status.busy": "2022-08-04T09:55:28.420605Z",
     "iopub.status.idle": "2022-08-04T09:55:28.428097Z",
     "shell.execute_reply": "2022-08-04T09:55:28.427410Z",
     "shell.execute_reply.started": "2022-08-04T09:51:37.817869Z"
    },
    "jupyter": {
     "outputs_hidden": false
    },
    "papermill": {
     "duration": 0.101109,
     "end_time": "2022-08-04T09:55:28.428245",
     "exception": false,
     "start_time": "2022-08-04T09:55:28.327136",
     "status": "completed"
    },
    "tags": []
   },
   "outputs": [
    {
     "name": "stdout",
     "output_type": "stream",
     "text": [
      "Sensitivity :  0.6666666666666666\n",
      "Specificity :  0.68\n"
     ]
    }
   ],
   "source": [
    "total=sum(sum(cm))\n",
    "\n",
    "sensitivity = cm[0,0]/(cm[0,0]+cm[1,0])\n",
    "print('Sensitivity : ', sensitivity )\n",
    "\n",
    "specificity = cm[1,1]/(cm[1,1]+cm[0,1])\n",
    "print('Specificity : ', specificity)"
   ]
  },
  {
   "cell_type": "code",
   "execution_count": 61,
   "id": "85012383",
   "metadata": {
    "_cell_guid": "dd56ca1c-4d33-4d9b-8453-53b8dedf781a",
    "_uuid": "181bca56-daf1-4414-88c4-de9227c94503",
    "collapsed": false,
    "execution": {
     "iopub.execute_input": "2022-08-04T09:55:28.619332Z",
     "iopub.status.busy": "2022-08-04T09:55:28.617294Z",
     "iopub.status.idle": "2022-08-04T09:55:28.624073Z",
     "shell.execute_reply": "2022-08-04T09:55:28.624607Z",
     "shell.execute_reply.started": "2022-08-04T09:51:46.300854Z"
    },
    "jupyter": {
     "outputs_hidden": false
    },
    "papermill": {
     "duration": 0.103891,
     "end_time": "2022-08-04T09:55:28.624791",
     "exception": false,
     "start_time": "2022-08-04T09:55:28.520900",
     "status": "completed"
    },
    "tags": []
   },
   "outputs": [
    {
     "data": {
      "text/plain": [
       "0.7230769230769231"
      ]
     },
     "execution_count": 61,
     "metadata": {},
     "output_type": "execute_result"
    }
   ],
   "source": [
    "from sklearn.metrics import accuracy_score\n",
    "accuracy_score(y_test, y_pred)"
   ]
  },
  {
   "cell_type": "markdown",
   "id": "64213945",
   "metadata": {
    "_cell_guid": "7cd6e4a6-5fa7-4a98-ad75-99ea385cc706",
    "_uuid": "249a00e5-8edc-4a35-9142-162c97315182",
    "papermill": {
     "duration": 0.092782,
     "end_time": "2022-08-04T09:55:28.810574",
     "exception": false,
     "start_time": "2022-08-04T09:55:28.717792",
     "status": "completed"
    },
    "tags": []
   },
   "source": []
  }
 ],
 "metadata": {
  "kernelspec": {
   "display_name": "Python 3",
   "language": "python",
   "name": "python3"
  },
  "language_info": {
   "codemirror_mode": {
    "name": "ipython",
    "version": 3
   },
   "file_extension": ".py",
   "mimetype": "text/x-python",
   "name": "python",
   "nbconvert_exporter": "python",
   "pygments_lexer": "ipython3",
   "version": "3.7.12"
  },
  "papermill": {
   "default_parameters": {},
   "duration": 33.130498,
   "end_time": "2022-08-04T09:55:29.914840",
   "environment_variables": {},
   "exception": null,
   "input_path": "__notebook__.ipynb",
   "output_path": "__notebook__.ipynb",
   "parameters": {},
   "start_time": "2022-08-04T09:54:56.784342",
   "version": "2.3.3"
  }
 },
 "nbformat": 4,
 "nbformat_minor": 5
}
